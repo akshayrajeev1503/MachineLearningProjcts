{
  "nbformat": 4,
  "nbformat_minor": 0,
  "metadata": {
    "colab": {
      "name": "Capstone1GrandFinale.ipynb",
      "provenance": [],
      "collapsed_sections": []
    },
    "kernelspec": {
      "name": "python3",
      "display_name": "Python 3"
    },
    "widgets": {
      "application/vnd.jupyter.widget-state+json": {
        "1e16215aae634334a9ea3f53d6e9792e": {
          "model_module": "@jupyter-widgets/controls",
          "model_name": "HBoxModel",
          "state": {
            "_view_name": "HBoxView",
            "_dom_classes": [],
            "_model_name": "HBoxModel",
            "_view_module": "@jupyter-widgets/controls",
            "_model_module_version": "1.5.0",
            "_view_count": null,
            "_view_module_version": "1.5.0",
            "box_style": "",
            "layout": "IPY_MODEL_ce2ebc74b7954213bc1f86ca3e8095aa",
            "_model_module": "@jupyter-widgets/controls",
            "children": [
              "IPY_MODEL_2c61045e7e084f818566f0a24526a587",
              "IPY_MODEL_769e1b258df24fbcab9abbc172bbcfc1"
            ]
          }
        },
        "ce2ebc74b7954213bc1f86ca3e8095aa": {
          "model_module": "@jupyter-widgets/base",
          "model_name": "LayoutModel",
          "state": {
            "_view_name": "LayoutView",
            "grid_template_rows": null,
            "right": null,
            "justify_content": null,
            "_view_module": "@jupyter-widgets/base",
            "overflow": null,
            "_model_module_version": "1.2.0",
            "_view_count": null,
            "flex_flow": null,
            "width": null,
            "min_width": null,
            "border": null,
            "align_items": null,
            "bottom": null,
            "_model_module": "@jupyter-widgets/base",
            "top": null,
            "grid_column": null,
            "overflow_y": null,
            "overflow_x": null,
            "grid_auto_flow": null,
            "grid_area": null,
            "grid_template_columns": null,
            "flex": null,
            "_model_name": "LayoutModel",
            "justify_items": null,
            "grid_row": null,
            "max_height": null,
            "align_content": null,
            "visibility": null,
            "align_self": null,
            "height": null,
            "min_height": null,
            "padding": null,
            "grid_auto_rows": null,
            "grid_gap": null,
            "max_width": null,
            "order": null,
            "_view_module_version": "1.2.0",
            "grid_template_areas": null,
            "object_position": null,
            "object_fit": null,
            "grid_auto_columns": null,
            "margin": null,
            "display": null,
            "left": null
          }
        },
        "2c61045e7e084f818566f0a24526a587": {
          "model_module": "@jupyter-widgets/controls",
          "model_name": "IntProgressModel",
          "state": {
            "_view_name": "ProgressView",
            "style": "IPY_MODEL_3456fd891f31400bacbdc83bc1b064a4",
            "_dom_classes": [],
            "description": "100%",
            "_model_name": "IntProgressModel",
            "bar_style": "success",
            "max": 10000,
            "_view_module": "@jupyter-widgets/controls",
            "_model_module_version": "1.5.0",
            "value": 10000,
            "_view_count": null,
            "_view_module_version": "1.5.0",
            "orientation": "horizontal",
            "min": 0,
            "description_tooltip": null,
            "_model_module": "@jupyter-widgets/controls",
            "layout": "IPY_MODEL_6f40c80627fd4e9c9a8b14375c767059"
          }
        },
        "769e1b258df24fbcab9abbc172bbcfc1": {
          "model_module": "@jupyter-widgets/controls",
          "model_name": "HTMLModel",
          "state": {
            "_view_name": "HTMLView",
            "style": "IPY_MODEL_f3e8f7b8a9764164be1dafbebd0d43d6",
            "_dom_classes": [],
            "description": "",
            "_model_name": "HTMLModel",
            "placeholder": "​",
            "_view_module": "@jupyter-widgets/controls",
            "_model_module_version": "1.5.0",
            "value": " 10000/10000 [05:55&lt;00:00, 28.17it/s]",
            "_view_count": null,
            "_view_module_version": "1.5.0",
            "description_tooltip": null,
            "_model_module": "@jupyter-widgets/controls",
            "layout": "IPY_MODEL_1b506a2b79a4477eaf396559fb499fe9"
          }
        },
        "3456fd891f31400bacbdc83bc1b064a4": {
          "model_module": "@jupyter-widgets/controls",
          "model_name": "ProgressStyleModel",
          "state": {
            "_view_name": "StyleView",
            "_model_name": "ProgressStyleModel",
            "description_width": "initial",
            "_view_module": "@jupyter-widgets/base",
            "_model_module_version": "1.5.0",
            "_view_count": null,
            "_view_module_version": "1.2.0",
            "bar_color": null,
            "_model_module": "@jupyter-widgets/controls"
          }
        },
        "6f40c80627fd4e9c9a8b14375c767059": {
          "model_module": "@jupyter-widgets/base",
          "model_name": "LayoutModel",
          "state": {
            "_view_name": "LayoutView",
            "grid_template_rows": null,
            "right": null,
            "justify_content": null,
            "_view_module": "@jupyter-widgets/base",
            "overflow": null,
            "_model_module_version": "1.2.0",
            "_view_count": null,
            "flex_flow": null,
            "width": null,
            "min_width": null,
            "border": null,
            "align_items": null,
            "bottom": null,
            "_model_module": "@jupyter-widgets/base",
            "top": null,
            "grid_column": null,
            "overflow_y": null,
            "overflow_x": null,
            "grid_auto_flow": null,
            "grid_area": null,
            "grid_template_columns": null,
            "flex": null,
            "_model_name": "LayoutModel",
            "justify_items": null,
            "grid_row": null,
            "max_height": null,
            "align_content": null,
            "visibility": null,
            "align_self": null,
            "height": null,
            "min_height": null,
            "padding": null,
            "grid_auto_rows": null,
            "grid_gap": null,
            "max_width": null,
            "order": null,
            "_view_module_version": "1.2.0",
            "grid_template_areas": null,
            "object_position": null,
            "object_fit": null,
            "grid_auto_columns": null,
            "margin": null,
            "display": null,
            "left": null
          }
        },
        "f3e8f7b8a9764164be1dafbebd0d43d6": {
          "model_module": "@jupyter-widgets/controls",
          "model_name": "DescriptionStyleModel",
          "state": {
            "_view_name": "StyleView",
            "_model_name": "DescriptionStyleModel",
            "description_width": "",
            "_view_module": "@jupyter-widgets/base",
            "_model_module_version": "1.5.0",
            "_view_count": null,
            "_view_module_version": "1.2.0",
            "_model_module": "@jupyter-widgets/controls"
          }
        },
        "1b506a2b79a4477eaf396559fb499fe9": {
          "model_module": "@jupyter-widgets/base",
          "model_name": "LayoutModel",
          "state": {
            "_view_name": "LayoutView",
            "grid_template_rows": null,
            "right": null,
            "justify_content": null,
            "_view_module": "@jupyter-widgets/base",
            "overflow": null,
            "_model_module_version": "1.2.0",
            "_view_count": null,
            "flex_flow": null,
            "width": null,
            "min_width": null,
            "border": null,
            "align_items": null,
            "bottom": null,
            "_model_module": "@jupyter-widgets/base",
            "top": null,
            "grid_column": null,
            "overflow_y": null,
            "overflow_x": null,
            "grid_auto_flow": null,
            "grid_area": null,
            "grid_template_columns": null,
            "flex": null,
            "_model_name": "LayoutModel",
            "justify_items": null,
            "grid_row": null,
            "max_height": null,
            "align_content": null,
            "visibility": null,
            "align_self": null,
            "height": null,
            "min_height": null,
            "padding": null,
            "grid_auto_rows": null,
            "grid_gap": null,
            "max_width": null,
            "order": null,
            "_view_module_version": "1.2.0",
            "grid_template_areas": null,
            "object_position": null,
            "object_fit": null,
            "grid_auto_columns": null,
            "margin": null,
            "display": null,
            "left": null
          }
        }
      }
    }
  },
  "cells": [
    {
      "cell_type": "markdown",
      "metadata": {
        "id": "VBaWiBwl6-aQ",
        "colab_type": "text"
      },
      "source": [
        "# **MUSHROOM DATASET**"
      ]
    },
    {
      "cell_type": "markdown",
      "metadata": {
        "id": "2ayi6gaDUV9i",
        "colab_type": "text"
      },
      "source": [
        "![alt text](https://drive.google.com/uc?id=1Pze8_sUdHXWnf1rrq2QSklKFCEGiOTa5)"
      ]
    },
    {
      "cell_type": "markdown",
      "metadata": {
        "id": "00NZibQ4buh1",
        "colab_type": "text"
      },
      "source": [
        "# **Data description:**\n",
        "\n",
        "There are a total of 8124 instances.\n",
        "\n",
        "22 features and 1 target(namely \"class\")\n",
        "\n",
        "     1. cap-shape:                bell=b,conical=c,convex=x,flat=f,\n",
        "                                  knobbed=k,sunken=s\n",
        "     2. cap-surface:              fibrous=f,grooves=g,scaly=y,smooth=s\n",
        "     3. cap-color:                brown=n,buff=b,cinnamon=c,gray=g,green=r,\n",
        "                                  pink=p,purple=u,red=e,white=w,yellow=y\n",
        "     4. bruises?:                 bruises=t,no=f\n",
        "     5. odor:                     almond=a,anise=l,creosote=c,fishy=y,foul=f,\n",
        "                                  musty=m,none=n,pungent=p,spicy=s\n",
        "     6. gill-attachment:          attached=a,descending=d,free=f,notched=n\n",
        "     7. gill-spacing:             close=c,crowded=w,distant=d\n",
        "     8. gill-size:                broad=b,narrow=n\n",
        "     9. gill-color:               black=k,brown=n,buff=b,chocolate=h,gray=g,\n",
        "                                  green=r,orange=o,pink=p,purple=u,red=e,\n",
        "                                  white=w,yellow=y\n",
        "    10. stalk-shape:              enlarging=e,tapering=t\n",
        "    11. stalk-root:               bulbous=b,club=c,cup=u,equal=e,\n",
        "                                  rhizomorphs=z,rooted=r,missing=?\n",
        "    12. stalk-surface-above-ring: fibrous=f,scaly=y,silky=k,smooth=s\n",
        "    13. stalk-surface-below-ring: fibrous=f,scaly=y,silky=k,smooth=s\n",
        "    14. stalk-color-above-ring:   brown=n,buff=b,cinnamon=c,gray=g,orange=o,\n",
        "                                  pink=p,red=e,white=w,yellow=y\n",
        "    15. stalk-color-below-ring:   brown=n,buff=b,cinnamon=c,gray=g,orange=o,\n",
        "                                  pink=p,red=e,white=w,yellow=y\n",
        "    16. veil-type:                partial=p,universal=u\n",
        "    17. veil-color:               brown=n,orange=o,white=w,yellow=y\n",
        "    18. ring-number:              none=n,one=o,two=t\n",
        "    19. ring-type:                cobwebby=c,evanescent=e,flaring=f,large=l,\n",
        "                                  none=n,pendant=p,sheathing=s,zone=z\n",
        "    20. spore-print-color:        black=k,brown=n,buff=b,chocolate=h,green=r,\n",
        "                                  orange=o,purple=u,white=w,yellow=y\n",
        "    21. population:               abundant=a,clustered=c,numerous=n,\n",
        "                                  scattered=s,several=v,solitary=y\n",
        "    22. habitat:                  grasses=g,leaves=l,meadows=m,paths=p,\n",
        "                                  urban=u,waste=w,woods=d\n",
        "\n",
        "    classes: edible=e, poisonous=p\n",
        "\n",
        "Hence the dataset turns out to be a classification dataset.\n",
        "\n",
        "Algorithms applied here are:\n",
        "\n",
        "-> kNN\n",
        "\n",
        "-> logistic regression\n",
        "\n",
        "-> nueral networks\n",
        "\n",
        "\n",
        "Based upon the features, model tries to predict whether the mushroom is edible or poisoness. "
      ]
    },
    {
      "cell_type": "markdown",
      "metadata": {
        "id": "aen_kW20wz0e",
        "colab_type": "text"
      },
      "source": [
        "# importing libraries"
      ]
    },
    {
      "cell_type": "code",
      "metadata": {
        "id": "SqiHwDeSU640",
        "colab_type": "code",
        "colab": {}
      },
      "source": [
        "import numpy as np\n",
        "import pandas as pd\n",
        "from sklearn.model_selection import train_test_split\n",
        "from sklearn.preprocessing import LabelEncoder,LabelBinarizer\n",
        "from sklearn.decomposition import PCA\n",
        "from tqdm import tqdm_notebook\n",
        "from sklearn.metrics import accuracy_score\n",
        "from sklearn.preprocessing import OneHotEncoder\n",
        "import matplotlib.pyplot as plt"
      ],
      "execution_count": 0,
      "outputs": []
    },
    {
      "cell_type": "markdown",
      "metadata": {
        "id": "tSpQCRgl5CrH",
        "colab_type": "text"
      },
      "source": [
        "loading data"
      ]
    },
    {
      "cell_type": "code",
      "metadata": {
        "id": "VwuPR2dy-4BR",
        "colab_type": "code",
        "colab": {}
      },
      "source": [
        "data=pd.read_csv(\"https://archive.ics.uci.edu/ml/machine-learning-databases/mushroom/agaricus-lepiota.data\",names=[\"class\",\"cap-shape\",\"cap-surface\",\"cap-color\",\"bruises?\",\"odor\",\"gill-attachment\",\"gill-spacing\",\"gill-size\",\"gill-color\",\"stalk-shape\",\"stalk-root\",\"stalk-surface-above-ring\",\"stalk-surface-below-ring\",\"stalk-color-above-ring\",\"stalk-color-below-ring\",\"veil-type\",\"veil-color\",\"ring-number\",\"ring-type\",\"spore-print-color\",\"population\",\"habitat\"])"
      ],
      "execution_count": 0,
      "outputs": []
    },
    {
      "cell_type": "code",
      "metadata": {
        "id": "IQMiorhF4Kn1",
        "colab_type": "code",
        "outputId": "64f3052b-e565-47aa-d7c9-003f87032bf1",
        "colab": {
          "base_uri": "https://localhost:8080/",
          "height": 275
        }
      },
      "source": [
        "data.head()"
      ],
      "execution_count": 0,
      "outputs": [
        {
          "output_type": "execute_result",
          "data": {
            "text/html": [
              "<div>\n",
              "<style scoped>\n",
              "    .dataframe tbody tr th:only-of-type {\n",
              "        vertical-align: middle;\n",
              "    }\n",
              "\n",
              "    .dataframe tbody tr th {\n",
              "        vertical-align: top;\n",
              "    }\n",
              "\n",
              "    .dataframe thead th {\n",
              "        text-align: right;\n",
              "    }\n",
              "</style>\n",
              "<table border=\"1\" class=\"dataframe\">\n",
              "  <thead>\n",
              "    <tr style=\"text-align: right;\">\n",
              "      <th></th>\n",
              "      <th>class</th>\n",
              "      <th>cap-shape</th>\n",
              "      <th>cap-surface</th>\n",
              "      <th>cap-color</th>\n",
              "      <th>bruises?</th>\n",
              "      <th>odor</th>\n",
              "      <th>gill-attachment</th>\n",
              "      <th>gill-spacing</th>\n",
              "      <th>gill-size</th>\n",
              "      <th>gill-color</th>\n",
              "      <th>stalk-shape</th>\n",
              "      <th>stalk-root</th>\n",
              "      <th>stalk-surface-above-ring</th>\n",
              "      <th>stalk-surface-below-ring</th>\n",
              "      <th>stalk-color-above-ring</th>\n",
              "      <th>stalk-color-below-ring</th>\n",
              "      <th>veil-type</th>\n",
              "      <th>veil-color</th>\n",
              "      <th>ring-number</th>\n",
              "      <th>ring-type</th>\n",
              "      <th>spore-print-color</th>\n",
              "      <th>population</th>\n",
              "      <th>habitat</th>\n",
              "    </tr>\n",
              "  </thead>\n",
              "  <tbody>\n",
              "    <tr>\n",
              "      <th>0</th>\n",
              "      <td>p</td>\n",
              "      <td>x</td>\n",
              "      <td>s</td>\n",
              "      <td>n</td>\n",
              "      <td>t</td>\n",
              "      <td>p</td>\n",
              "      <td>f</td>\n",
              "      <td>c</td>\n",
              "      <td>n</td>\n",
              "      <td>k</td>\n",
              "      <td>e</td>\n",
              "      <td>e</td>\n",
              "      <td>s</td>\n",
              "      <td>s</td>\n",
              "      <td>w</td>\n",
              "      <td>w</td>\n",
              "      <td>p</td>\n",
              "      <td>w</td>\n",
              "      <td>o</td>\n",
              "      <td>p</td>\n",
              "      <td>k</td>\n",
              "      <td>s</td>\n",
              "      <td>u</td>\n",
              "    </tr>\n",
              "    <tr>\n",
              "      <th>1</th>\n",
              "      <td>e</td>\n",
              "      <td>x</td>\n",
              "      <td>s</td>\n",
              "      <td>y</td>\n",
              "      <td>t</td>\n",
              "      <td>a</td>\n",
              "      <td>f</td>\n",
              "      <td>c</td>\n",
              "      <td>b</td>\n",
              "      <td>k</td>\n",
              "      <td>e</td>\n",
              "      <td>c</td>\n",
              "      <td>s</td>\n",
              "      <td>s</td>\n",
              "      <td>w</td>\n",
              "      <td>w</td>\n",
              "      <td>p</td>\n",
              "      <td>w</td>\n",
              "      <td>o</td>\n",
              "      <td>p</td>\n",
              "      <td>n</td>\n",
              "      <td>n</td>\n",
              "      <td>g</td>\n",
              "    </tr>\n",
              "    <tr>\n",
              "      <th>2</th>\n",
              "      <td>e</td>\n",
              "      <td>b</td>\n",
              "      <td>s</td>\n",
              "      <td>w</td>\n",
              "      <td>t</td>\n",
              "      <td>l</td>\n",
              "      <td>f</td>\n",
              "      <td>c</td>\n",
              "      <td>b</td>\n",
              "      <td>n</td>\n",
              "      <td>e</td>\n",
              "      <td>c</td>\n",
              "      <td>s</td>\n",
              "      <td>s</td>\n",
              "      <td>w</td>\n",
              "      <td>w</td>\n",
              "      <td>p</td>\n",
              "      <td>w</td>\n",
              "      <td>o</td>\n",
              "      <td>p</td>\n",
              "      <td>n</td>\n",
              "      <td>n</td>\n",
              "      <td>m</td>\n",
              "    </tr>\n",
              "    <tr>\n",
              "      <th>3</th>\n",
              "      <td>p</td>\n",
              "      <td>x</td>\n",
              "      <td>y</td>\n",
              "      <td>w</td>\n",
              "      <td>t</td>\n",
              "      <td>p</td>\n",
              "      <td>f</td>\n",
              "      <td>c</td>\n",
              "      <td>n</td>\n",
              "      <td>n</td>\n",
              "      <td>e</td>\n",
              "      <td>e</td>\n",
              "      <td>s</td>\n",
              "      <td>s</td>\n",
              "      <td>w</td>\n",
              "      <td>w</td>\n",
              "      <td>p</td>\n",
              "      <td>w</td>\n",
              "      <td>o</td>\n",
              "      <td>p</td>\n",
              "      <td>k</td>\n",
              "      <td>s</td>\n",
              "      <td>u</td>\n",
              "    </tr>\n",
              "    <tr>\n",
              "      <th>4</th>\n",
              "      <td>e</td>\n",
              "      <td>x</td>\n",
              "      <td>s</td>\n",
              "      <td>g</td>\n",
              "      <td>f</td>\n",
              "      <td>n</td>\n",
              "      <td>f</td>\n",
              "      <td>w</td>\n",
              "      <td>b</td>\n",
              "      <td>k</td>\n",
              "      <td>t</td>\n",
              "      <td>e</td>\n",
              "      <td>s</td>\n",
              "      <td>s</td>\n",
              "      <td>w</td>\n",
              "      <td>w</td>\n",
              "      <td>p</td>\n",
              "      <td>w</td>\n",
              "      <td>o</td>\n",
              "      <td>e</td>\n",
              "      <td>n</td>\n",
              "      <td>a</td>\n",
              "      <td>g</td>\n",
              "    </tr>\n",
              "  </tbody>\n",
              "</table>\n",
              "</div>"
            ],
            "text/plain": [
              "  class cap-shape cap-surface  ... spore-print-color population habitat\n",
              "0     p         x           s  ...                 k          s       u\n",
              "1     e         x           s  ...                 n          n       g\n",
              "2     e         b           s  ...                 n          n       m\n",
              "3     p         x           y  ...                 k          s       u\n",
              "4     e         x           s  ...                 n          a       g\n",
              "\n",
              "[5 rows x 23 columns]"
            ]
          },
          "metadata": {
            "tags": []
          },
          "execution_count": 178
        }
      ]
    },
    {
      "cell_type": "markdown",
      "metadata": {
        "id": "aZvLvI_Nz6PK",
        "colab_type": "text"
      },
      "source": [
        "Data is in the form of alphabets in attributes, hence data needs to be converted into numbers as computer only understands numbers."
      ]
    },
    {
      "cell_type": "markdown",
      "metadata": {
        "id": "x4yUE_tbxAWa",
        "colab_type": "text"
      },
      "source": [
        "# Data preprocessing and cleaning"
      ]
    },
    {
      "cell_type": "markdown",
      "metadata": {
        "id": "RPdE-q9DAJX-",
        "colab_type": "text"
      },
      "source": [
        "checking for any null values"
      ]
    },
    {
      "cell_type": "code",
      "metadata": {
        "id": "tphciXgF4TA1",
        "colab_type": "code",
        "outputId": "ca4bf14c-583d-4bae-fb66-ea073c70af96",
        "colab": {
          "base_uri": "https://localhost:8080/",
          "height": 425
        }
      },
      "source": [
        "pd.isnull(data).sum()"
      ],
      "execution_count": 0,
      "outputs": [
        {
          "output_type": "execute_result",
          "data": {
            "text/plain": [
              "class                       0\n",
              "cap-shape                   0\n",
              "cap-surface                 0\n",
              "cap-color                   0\n",
              "bruises?                    0\n",
              "odor                        0\n",
              "gill-attachment             0\n",
              "gill-spacing                0\n",
              "gill-size                   0\n",
              "gill-color                  0\n",
              "stalk-shape                 0\n",
              "stalk-root                  0\n",
              "stalk-surface-above-ring    0\n",
              "stalk-surface-below-ring    0\n",
              "stalk-color-above-ring      0\n",
              "stalk-color-below-ring      0\n",
              "veil-type                   0\n",
              "veil-color                  0\n",
              "ring-number                 0\n",
              "ring-type                   0\n",
              "spore-print-color           0\n",
              "population                  0\n",
              "habitat                     0\n",
              "dtype: int64"
            ]
          },
          "metadata": {
            "tags": []
          },
          "execution_count": 179
        }
      ]
    },
    {
      "cell_type": "markdown",
      "metadata": {
        "id": "2hVXwHn0A8J2",
        "colab_type": "text"
      },
      "source": [
        "no null values found"
      ]
    },
    {
      "cell_type": "code",
      "metadata": {
        "id": "wugAfq6r4eWB",
        "colab_type": "code",
        "outputId": "960f57c9-ea2f-4477-8dfe-b145a4c38c85",
        "colab": {
          "base_uri": "https://localhost:8080/",
          "height": 119
        }
      },
      "source": [
        "data[\"stalk-root\"].value_counts()"
      ],
      "execution_count": 0,
      "outputs": [
        {
          "output_type": "execute_result",
          "data": {
            "text/plain": [
              "b    3776\n",
              "?    2480\n",
              "e    1120\n",
              "c     556\n",
              "r     192\n",
              "Name: stalk-root, dtype: int64"
            ]
          },
          "metadata": {
            "tags": []
          },
          "execution_count": 180
        }
      ]
    },
    {
      "cell_type": "markdown",
      "metadata": {
        "id": "rZBUIsPp1rfy",
        "colab_type": "text"
      },
      "source": [
        "In \"stalk-root\" attribute/feature there are missing values rplaced by '?'\n",
        "\n",
        "Hence missing values must be removed by separating it out into a separate column and dropping that column."
      ]
    },
    {
      "cell_type": "markdown",
      "metadata": {
        "id": "Oqdh6DOc5KiW",
        "colab_type": "text"
      },
      "source": [
        "The get_dummies() function is used to convert categorical variable into dummy/indicator variables.\n",
        "get_dummies() is a pandas library function.\n",
        "get_dummies() separates  all the unique categorical values and converts into binary data by separating it out into separate columns."
      ]
    },
    {
      "cell_type": "code",
      "metadata": {
        "id": "Ad3nrfeUWSNM",
        "colab_type": "code",
        "outputId": "c1a770cb-12f6-40cf-c722-c23126aa72ff",
        "colab": {
          "base_uri": "https://localhost:8080/",
          "height": 304
        }
      },
      "source": [
        "encoded_data = pd.get_dummies(data)\n",
        "\n",
        "encoded_data.head(5)"
      ],
      "execution_count": 0,
      "outputs": [
        {
          "output_type": "execute_result",
          "data": {
            "text/html": [
              "<div>\n",
              "<style scoped>\n",
              "    .dataframe tbody tr th:only-of-type {\n",
              "        vertical-align: middle;\n",
              "    }\n",
              "\n",
              "    .dataframe tbody tr th {\n",
              "        vertical-align: top;\n",
              "    }\n",
              "\n",
              "    .dataframe thead th {\n",
              "        text-align: right;\n",
              "    }\n",
              "</style>\n",
              "<table border=\"1\" class=\"dataframe\">\n",
              "  <thead>\n",
              "    <tr style=\"text-align: right;\">\n",
              "      <th></th>\n",
              "      <th>class_e</th>\n",
              "      <th>class_p</th>\n",
              "      <th>cap-shape_b</th>\n",
              "      <th>cap-shape_c</th>\n",
              "      <th>cap-shape_f</th>\n",
              "      <th>cap-shape_k</th>\n",
              "      <th>cap-shape_s</th>\n",
              "      <th>cap-shape_x</th>\n",
              "      <th>cap-surface_f</th>\n",
              "      <th>cap-surface_g</th>\n",
              "      <th>cap-surface_s</th>\n",
              "      <th>cap-surface_y</th>\n",
              "      <th>cap-color_b</th>\n",
              "      <th>cap-color_c</th>\n",
              "      <th>cap-color_e</th>\n",
              "      <th>cap-color_g</th>\n",
              "      <th>cap-color_n</th>\n",
              "      <th>cap-color_p</th>\n",
              "      <th>cap-color_r</th>\n",
              "      <th>cap-color_u</th>\n",
              "      <th>cap-color_w</th>\n",
              "      <th>cap-color_y</th>\n",
              "      <th>bruises?_f</th>\n",
              "      <th>bruises?_t</th>\n",
              "      <th>odor_a</th>\n",
              "      <th>odor_c</th>\n",
              "      <th>odor_f</th>\n",
              "      <th>odor_l</th>\n",
              "      <th>odor_m</th>\n",
              "      <th>odor_n</th>\n",
              "      <th>odor_p</th>\n",
              "      <th>odor_s</th>\n",
              "      <th>odor_y</th>\n",
              "      <th>gill-attachment_a</th>\n",
              "      <th>gill-attachment_f</th>\n",
              "      <th>gill-spacing_c</th>\n",
              "      <th>gill-spacing_w</th>\n",
              "      <th>gill-size_b</th>\n",
              "      <th>gill-size_n</th>\n",
              "      <th>gill-color_b</th>\n",
              "      <th>...</th>\n",
              "      <th>stalk-color-below-ring_n</th>\n",
              "      <th>stalk-color-below-ring_o</th>\n",
              "      <th>stalk-color-below-ring_p</th>\n",
              "      <th>stalk-color-below-ring_w</th>\n",
              "      <th>stalk-color-below-ring_y</th>\n",
              "      <th>veil-type_p</th>\n",
              "      <th>veil-color_n</th>\n",
              "      <th>veil-color_o</th>\n",
              "      <th>veil-color_w</th>\n",
              "      <th>veil-color_y</th>\n",
              "      <th>ring-number_n</th>\n",
              "      <th>ring-number_o</th>\n",
              "      <th>ring-number_t</th>\n",
              "      <th>ring-type_e</th>\n",
              "      <th>ring-type_f</th>\n",
              "      <th>ring-type_l</th>\n",
              "      <th>ring-type_n</th>\n",
              "      <th>ring-type_p</th>\n",
              "      <th>spore-print-color_b</th>\n",
              "      <th>spore-print-color_h</th>\n",
              "      <th>spore-print-color_k</th>\n",
              "      <th>spore-print-color_n</th>\n",
              "      <th>spore-print-color_o</th>\n",
              "      <th>spore-print-color_r</th>\n",
              "      <th>spore-print-color_u</th>\n",
              "      <th>spore-print-color_w</th>\n",
              "      <th>spore-print-color_y</th>\n",
              "      <th>population_a</th>\n",
              "      <th>population_c</th>\n",
              "      <th>population_n</th>\n",
              "      <th>population_s</th>\n",
              "      <th>population_v</th>\n",
              "      <th>population_y</th>\n",
              "      <th>habitat_d</th>\n",
              "      <th>habitat_g</th>\n",
              "      <th>habitat_l</th>\n",
              "      <th>habitat_m</th>\n",
              "      <th>habitat_p</th>\n",
              "      <th>habitat_u</th>\n",
              "      <th>habitat_w</th>\n",
              "    </tr>\n",
              "  </thead>\n",
              "  <tbody>\n",
              "    <tr>\n",
              "      <th>0</th>\n",
              "      <td>0</td>\n",
              "      <td>1</td>\n",
              "      <td>0</td>\n",
              "      <td>0</td>\n",
              "      <td>0</td>\n",
              "      <td>0</td>\n",
              "      <td>0</td>\n",
              "      <td>1</td>\n",
              "      <td>0</td>\n",
              "      <td>0</td>\n",
              "      <td>1</td>\n",
              "      <td>0</td>\n",
              "      <td>0</td>\n",
              "      <td>0</td>\n",
              "      <td>0</td>\n",
              "      <td>0</td>\n",
              "      <td>1</td>\n",
              "      <td>0</td>\n",
              "      <td>0</td>\n",
              "      <td>0</td>\n",
              "      <td>0</td>\n",
              "      <td>0</td>\n",
              "      <td>0</td>\n",
              "      <td>1</td>\n",
              "      <td>0</td>\n",
              "      <td>0</td>\n",
              "      <td>0</td>\n",
              "      <td>0</td>\n",
              "      <td>0</td>\n",
              "      <td>0</td>\n",
              "      <td>1</td>\n",
              "      <td>0</td>\n",
              "      <td>0</td>\n",
              "      <td>0</td>\n",
              "      <td>1</td>\n",
              "      <td>1</td>\n",
              "      <td>0</td>\n",
              "      <td>0</td>\n",
              "      <td>1</td>\n",
              "      <td>0</td>\n",
              "      <td>...</td>\n",
              "      <td>0</td>\n",
              "      <td>0</td>\n",
              "      <td>0</td>\n",
              "      <td>1</td>\n",
              "      <td>0</td>\n",
              "      <td>1</td>\n",
              "      <td>0</td>\n",
              "      <td>0</td>\n",
              "      <td>1</td>\n",
              "      <td>0</td>\n",
              "      <td>0</td>\n",
              "      <td>1</td>\n",
              "      <td>0</td>\n",
              "      <td>0</td>\n",
              "      <td>0</td>\n",
              "      <td>0</td>\n",
              "      <td>0</td>\n",
              "      <td>1</td>\n",
              "      <td>0</td>\n",
              "      <td>0</td>\n",
              "      <td>1</td>\n",
              "      <td>0</td>\n",
              "      <td>0</td>\n",
              "      <td>0</td>\n",
              "      <td>0</td>\n",
              "      <td>0</td>\n",
              "      <td>0</td>\n",
              "      <td>0</td>\n",
              "      <td>0</td>\n",
              "      <td>0</td>\n",
              "      <td>1</td>\n",
              "      <td>0</td>\n",
              "      <td>0</td>\n",
              "      <td>0</td>\n",
              "      <td>0</td>\n",
              "      <td>0</td>\n",
              "      <td>0</td>\n",
              "      <td>0</td>\n",
              "      <td>1</td>\n",
              "      <td>0</td>\n",
              "    </tr>\n",
              "    <tr>\n",
              "      <th>1</th>\n",
              "      <td>1</td>\n",
              "      <td>0</td>\n",
              "      <td>0</td>\n",
              "      <td>0</td>\n",
              "      <td>0</td>\n",
              "      <td>0</td>\n",
              "      <td>0</td>\n",
              "      <td>1</td>\n",
              "      <td>0</td>\n",
              "      <td>0</td>\n",
              "      <td>1</td>\n",
              "      <td>0</td>\n",
              "      <td>0</td>\n",
              "      <td>0</td>\n",
              "      <td>0</td>\n",
              "      <td>0</td>\n",
              "      <td>0</td>\n",
              "      <td>0</td>\n",
              "      <td>0</td>\n",
              "      <td>0</td>\n",
              "      <td>0</td>\n",
              "      <td>1</td>\n",
              "      <td>0</td>\n",
              "      <td>1</td>\n",
              "      <td>1</td>\n",
              "      <td>0</td>\n",
              "      <td>0</td>\n",
              "      <td>0</td>\n",
              "      <td>0</td>\n",
              "      <td>0</td>\n",
              "      <td>0</td>\n",
              "      <td>0</td>\n",
              "      <td>0</td>\n",
              "      <td>0</td>\n",
              "      <td>1</td>\n",
              "      <td>1</td>\n",
              "      <td>0</td>\n",
              "      <td>1</td>\n",
              "      <td>0</td>\n",
              "      <td>0</td>\n",
              "      <td>...</td>\n",
              "      <td>0</td>\n",
              "      <td>0</td>\n",
              "      <td>0</td>\n",
              "      <td>1</td>\n",
              "      <td>0</td>\n",
              "      <td>1</td>\n",
              "      <td>0</td>\n",
              "      <td>0</td>\n",
              "      <td>1</td>\n",
              "      <td>0</td>\n",
              "      <td>0</td>\n",
              "      <td>1</td>\n",
              "      <td>0</td>\n",
              "      <td>0</td>\n",
              "      <td>0</td>\n",
              "      <td>0</td>\n",
              "      <td>0</td>\n",
              "      <td>1</td>\n",
              "      <td>0</td>\n",
              "      <td>0</td>\n",
              "      <td>0</td>\n",
              "      <td>1</td>\n",
              "      <td>0</td>\n",
              "      <td>0</td>\n",
              "      <td>0</td>\n",
              "      <td>0</td>\n",
              "      <td>0</td>\n",
              "      <td>0</td>\n",
              "      <td>0</td>\n",
              "      <td>1</td>\n",
              "      <td>0</td>\n",
              "      <td>0</td>\n",
              "      <td>0</td>\n",
              "      <td>0</td>\n",
              "      <td>1</td>\n",
              "      <td>0</td>\n",
              "      <td>0</td>\n",
              "      <td>0</td>\n",
              "      <td>0</td>\n",
              "      <td>0</td>\n",
              "    </tr>\n",
              "    <tr>\n",
              "      <th>2</th>\n",
              "      <td>1</td>\n",
              "      <td>0</td>\n",
              "      <td>1</td>\n",
              "      <td>0</td>\n",
              "      <td>0</td>\n",
              "      <td>0</td>\n",
              "      <td>0</td>\n",
              "      <td>0</td>\n",
              "      <td>0</td>\n",
              "      <td>0</td>\n",
              "      <td>1</td>\n",
              "      <td>0</td>\n",
              "      <td>0</td>\n",
              "      <td>0</td>\n",
              "      <td>0</td>\n",
              "      <td>0</td>\n",
              "      <td>0</td>\n",
              "      <td>0</td>\n",
              "      <td>0</td>\n",
              "      <td>0</td>\n",
              "      <td>1</td>\n",
              "      <td>0</td>\n",
              "      <td>0</td>\n",
              "      <td>1</td>\n",
              "      <td>0</td>\n",
              "      <td>0</td>\n",
              "      <td>0</td>\n",
              "      <td>1</td>\n",
              "      <td>0</td>\n",
              "      <td>0</td>\n",
              "      <td>0</td>\n",
              "      <td>0</td>\n",
              "      <td>0</td>\n",
              "      <td>0</td>\n",
              "      <td>1</td>\n",
              "      <td>1</td>\n",
              "      <td>0</td>\n",
              "      <td>1</td>\n",
              "      <td>0</td>\n",
              "      <td>0</td>\n",
              "      <td>...</td>\n",
              "      <td>0</td>\n",
              "      <td>0</td>\n",
              "      <td>0</td>\n",
              "      <td>1</td>\n",
              "      <td>0</td>\n",
              "      <td>1</td>\n",
              "      <td>0</td>\n",
              "      <td>0</td>\n",
              "      <td>1</td>\n",
              "      <td>0</td>\n",
              "      <td>0</td>\n",
              "      <td>1</td>\n",
              "      <td>0</td>\n",
              "      <td>0</td>\n",
              "      <td>0</td>\n",
              "      <td>0</td>\n",
              "      <td>0</td>\n",
              "      <td>1</td>\n",
              "      <td>0</td>\n",
              "      <td>0</td>\n",
              "      <td>0</td>\n",
              "      <td>1</td>\n",
              "      <td>0</td>\n",
              "      <td>0</td>\n",
              "      <td>0</td>\n",
              "      <td>0</td>\n",
              "      <td>0</td>\n",
              "      <td>0</td>\n",
              "      <td>0</td>\n",
              "      <td>1</td>\n",
              "      <td>0</td>\n",
              "      <td>0</td>\n",
              "      <td>0</td>\n",
              "      <td>0</td>\n",
              "      <td>0</td>\n",
              "      <td>0</td>\n",
              "      <td>1</td>\n",
              "      <td>0</td>\n",
              "      <td>0</td>\n",
              "      <td>0</td>\n",
              "    </tr>\n",
              "    <tr>\n",
              "      <th>3</th>\n",
              "      <td>0</td>\n",
              "      <td>1</td>\n",
              "      <td>0</td>\n",
              "      <td>0</td>\n",
              "      <td>0</td>\n",
              "      <td>0</td>\n",
              "      <td>0</td>\n",
              "      <td>1</td>\n",
              "      <td>0</td>\n",
              "      <td>0</td>\n",
              "      <td>0</td>\n",
              "      <td>1</td>\n",
              "      <td>0</td>\n",
              "      <td>0</td>\n",
              "      <td>0</td>\n",
              "      <td>0</td>\n",
              "      <td>0</td>\n",
              "      <td>0</td>\n",
              "      <td>0</td>\n",
              "      <td>0</td>\n",
              "      <td>1</td>\n",
              "      <td>0</td>\n",
              "      <td>0</td>\n",
              "      <td>1</td>\n",
              "      <td>0</td>\n",
              "      <td>0</td>\n",
              "      <td>0</td>\n",
              "      <td>0</td>\n",
              "      <td>0</td>\n",
              "      <td>0</td>\n",
              "      <td>1</td>\n",
              "      <td>0</td>\n",
              "      <td>0</td>\n",
              "      <td>0</td>\n",
              "      <td>1</td>\n",
              "      <td>1</td>\n",
              "      <td>0</td>\n",
              "      <td>0</td>\n",
              "      <td>1</td>\n",
              "      <td>0</td>\n",
              "      <td>...</td>\n",
              "      <td>0</td>\n",
              "      <td>0</td>\n",
              "      <td>0</td>\n",
              "      <td>1</td>\n",
              "      <td>0</td>\n",
              "      <td>1</td>\n",
              "      <td>0</td>\n",
              "      <td>0</td>\n",
              "      <td>1</td>\n",
              "      <td>0</td>\n",
              "      <td>0</td>\n",
              "      <td>1</td>\n",
              "      <td>0</td>\n",
              "      <td>0</td>\n",
              "      <td>0</td>\n",
              "      <td>0</td>\n",
              "      <td>0</td>\n",
              "      <td>1</td>\n",
              "      <td>0</td>\n",
              "      <td>0</td>\n",
              "      <td>1</td>\n",
              "      <td>0</td>\n",
              "      <td>0</td>\n",
              "      <td>0</td>\n",
              "      <td>0</td>\n",
              "      <td>0</td>\n",
              "      <td>0</td>\n",
              "      <td>0</td>\n",
              "      <td>0</td>\n",
              "      <td>0</td>\n",
              "      <td>1</td>\n",
              "      <td>0</td>\n",
              "      <td>0</td>\n",
              "      <td>0</td>\n",
              "      <td>0</td>\n",
              "      <td>0</td>\n",
              "      <td>0</td>\n",
              "      <td>0</td>\n",
              "      <td>1</td>\n",
              "      <td>0</td>\n",
              "    </tr>\n",
              "    <tr>\n",
              "      <th>4</th>\n",
              "      <td>1</td>\n",
              "      <td>0</td>\n",
              "      <td>0</td>\n",
              "      <td>0</td>\n",
              "      <td>0</td>\n",
              "      <td>0</td>\n",
              "      <td>0</td>\n",
              "      <td>1</td>\n",
              "      <td>0</td>\n",
              "      <td>0</td>\n",
              "      <td>1</td>\n",
              "      <td>0</td>\n",
              "      <td>0</td>\n",
              "      <td>0</td>\n",
              "      <td>0</td>\n",
              "      <td>1</td>\n",
              "      <td>0</td>\n",
              "      <td>0</td>\n",
              "      <td>0</td>\n",
              "      <td>0</td>\n",
              "      <td>0</td>\n",
              "      <td>0</td>\n",
              "      <td>1</td>\n",
              "      <td>0</td>\n",
              "      <td>0</td>\n",
              "      <td>0</td>\n",
              "      <td>0</td>\n",
              "      <td>0</td>\n",
              "      <td>0</td>\n",
              "      <td>1</td>\n",
              "      <td>0</td>\n",
              "      <td>0</td>\n",
              "      <td>0</td>\n",
              "      <td>0</td>\n",
              "      <td>1</td>\n",
              "      <td>0</td>\n",
              "      <td>1</td>\n",
              "      <td>1</td>\n",
              "      <td>0</td>\n",
              "      <td>0</td>\n",
              "      <td>...</td>\n",
              "      <td>0</td>\n",
              "      <td>0</td>\n",
              "      <td>0</td>\n",
              "      <td>1</td>\n",
              "      <td>0</td>\n",
              "      <td>1</td>\n",
              "      <td>0</td>\n",
              "      <td>0</td>\n",
              "      <td>1</td>\n",
              "      <td>0</td>\n",
              "      <td>0</td>\n",
              "      <td>1</td>\n",
              "      <td>0</td>\n",
              "      <td>1</td>\n",
              "      <td>0</td>\n",
              "      <td>0</td>\n",
              "      <td>0</td>\n",
              "      <td>0</td>\n",
              "      <td>0</td>\n",
              "      <td>0</td>\n",
              "      <td>0</td>\n",
              "      <td>1</td>\n",
              "      <td>0</td>\n",
              "      <td>0</td>\n",
              "      <td>0</td>\n",
              "      <td>0</td>\n",
              "      <td>0</td>\n",
              "      <td>1</td>\n",
              "      <td>0</td>\n",
              "      <td>0</td>\n",
              "      <td>0</td>\n",
              "      <td>0</td>\n",
              "      <td>0</td>\n",
              "      <td>0</td>\n",
              "      <td>1</td>\n",
              "      <td>0</td>\n",
              "      <td>0</td>\n",
              "      <td>0</td>\n",
              "      <td>0</td>\n",
              "      <td>0</td>\n",
              "    </tr>\n",
              "  </tbody>\n",
              "</table>\n",
              "<p>5 rows × 119 columns</p>\n",
              "</div>"
            ],
            "text/plain": [
              "   class_e  class_p  cap-shape_b  ...  habitat_p  habitat_u  habitat_w\n",
              "0        0        1            0  ...          0          1          0\n",
              "1        1        0            0  ...          0          0          0\n",
              "2        1        0            1  ...          0          0          0\n",
              "3        0        1            0  ...          0          1          0\n",
              "4        1        0            0  ...          0          0          0\n",
              "\n",
              "[5 rows x 119 columns]"
            ]
          },
          "metadata": {
            "tags": []
          },
          "execution_count": 181
        }
      ]
    },
    {
      "cell_type": "markdown",
      "metadata": {
        "id": "fqBBhNjX2Fi8",
        "colab_type": "text"
      },
      "source": [
        "There are 2 targets \"class_e\" and \"class_p\".\n",
        "\n",
        "\"class_e\" "
      ]
    },
    {
      "cell_type": "markdown",
      "metadata": {
        "id": "Kno-3JFR3nWL",
        "colab_type": "text"
      },
      "source": [
        "'veil-type' feature has NaN value after correlation as whole column of 'veil-type' is 1.Therefore it will not help classifying mushrooms in any manner.\n",
        "Hence 'veil-type_p'(after get_dummies() veil-type is changed to veil-type_p) and 'stalk-root_?' (as discussed earlier) features need to be dropped."
      ]
    },
    {
      "cell_type": "code",
      "metadata": {
        "id": "Wjey6jA0DiKq",
        "colab_type": "code",
        "colab": {}
      },
      "source": [
        "#dropping veil-type as it is NaN\n",
        "encoded_data=encoded_data.drop(columns=[\"veil-type_p\",\"stalk-root_?\"])"
      ],
      "execution_count": 0,
      "outputs": []
    },
    {
      "cell_type": "code",
      "metadata": {
        "id": "zXa5iN4TD2zr",
        "colab_type": "code",
        "outputId": "b9479571-d073-43a9-fb57-ac6e9ca98974",
        "colab": {
          "base_uri": "https://localhost:8080/",
          "height": 34
        }
      },
      "source": [
        "len(encoded_data.columns)"
      ],
      "execution_count": 0,
      "outputs": [
        {
          "output_type": "execute_result",
          "data": {
            "text/plain": [
              "117"
            ]
          },
          "metadata": {
            "tags": []
          },
          "execution_count": 183
        }
      ]
    },
    {
      "cell_type": "markdown",
      "metadata": {
        "id": "MpGnnK86x7qP",
        "colab_type": "text"
      },
      "source": [
        "# Data Visualisation "
      ]
    },
    {
      "cell_type": "markdown",
      "metadata": {
        "id": "Jojo5AmQ0kYl",
        "colab_type": "text"
      },
      "source": [
        "Visualising Target"
      ]
    },
    {
      "cell_type": "code",
      "metadata": {
        "id": "AqwdbRuSx6Vz",
        "colab_type": "code",
        "outputId": "093ff448-f20e-4218-ee8a-3a19c737a334",
        "colab": {
          "base_uri": "https://localhost:8080/",
          "height": 256
        }
      },
      "source": [
        "labels = ['edible','poisonous']\n",
        "a,b=0,0\n",
        "for i in data[\"class\"].values:\n",
        "  if i=='e':\n",
        "    a+=1\n",
        "  else:\n",
        "    b+=1\n",
        "size=[a,b]\n",
        "plt.pie(size , labels=labels, autopct='%1.1f%%')\n",
        "plt.axis('equal')\n",
        "plt.show()\n"
      ],
      "execution_count": 0,
      "outputs": [
        {
          "output_type": "display_data",
          "data": {
            "image/png": "[encoded data removed]",
            "text/plain": [
              "<Figure size 432x288 with 1 Axes>"
            ]
          },
          "metadata": {
            "tags": []
          }
        }
      ]
    },
    {
      "cell_type": "markdown",
      "metadata": {
        "id": "BJIBABAe03H6",
        "colab_type": "text"
      },
      "source": [
        "from the pie chart it is clear that there are 51.8% edible and 48.2% poisonous mushrooms in the dataset.\n",
        "\n",
        "Both being 50% would have been a better scenario otherwise output will be biased towards edible mushrooms.\n",
        "\n",
        "As the difference is not much and closer to 50% , we are good to go !!"
      ]
    },
    {
      "cell_type": "markdown",
      "metadata": {
        "id": "Z7odHO73KzZc",
        "colab_type": "text"
      },
      "source": [
        "**4208 edible**\n",
        "**& 3916 poisonous mushrooms**"
      ]
    },
    {
      "cell_type": "markdown",
      "metadata": {
        "id": "JpU1Qec0QZC7",
        "colab_type": "text"
      },
      "source": [
        "**visualising all features against targets(class_e & class_p)**\n",
        "\n"
      ]
    },
    {
      "cell_type": "code",
      "metadata": {
        "id": "WwEa28mt3fRc",
        "colab_type": "code",
        "outputId": "4b41f028-0868-4bfb-a5a1-93002a9cb02c",
        "colab": {
          "base_uri": "https://localhost:8080/",
          "height": 332
        }
      },
      "source": [
        "#code for pie chart for all features vs class_e(edible mushrooms)\n",
        "plt.figure(figsize=(16,4))\n",
        "labels = encoded_data.columns\n",
        "size=[]\n",
        "sum=0\n",
        "for cols in encoded_data.columns:\n",
        "  for i,val in enumerate(encoded_data[cols].values):\n",
        "    t=encoded_data[\"class_e\"].values[i]\n",
        "    if (val == t) and (val==1):\n",
        "      sum+=1\n",
        "  size.append(sum)\n",
        "  sum=0\n",
        "plt.subplot(1,2,1)\n",
        "plt.pie(size)\n",
        "plt.title('features w.r.t class_e')\n",
        "plt.axis('equal')\n",
        "\n",
        "#code for pie chart for all features vs class_p(poisonous mushrooms)\n",
        "sizep=[]\n",
        "sump=0\n",
        "for cols in encoded_data.columns:\n",
        "  for i,val in enumerate(encoded_data[cols].values):\n",
        "    t=encoded_data[\"class_p\"].values[i]\n",
        "    if (val == t) and (val==1):\n",
        "      sump+=1\n",
        "  sizep.append(sump)\n",
        "  sump=0\n",
        "plt.subplot(1,2,2)\n",
        "plt.pie(sizep)\n",
        "plt.title('features w.r.t class_p')\n",
        "plt.axis('equal')"
      ],
      "execution_count": 0,
      "outputs": [
        {
          "output_type": "execute_result",
          "data": {
            "text/plain": [
              "(-1.100202665628139,\n",
              " 1.1000096508166153,\n",
              " -1.101126139777739,\n",
              " 1.1003922374683937)"
            ]
          },
          "metadata": {
            "tags": []
          },
          "execution_count": 185
        },
        {
          "output_type": "display_data",
          "data": {
            "image/png": "[encoded data removed]",
            "text/plain": [
              "<Figure size 1152x288 with 2 Axes>"
            ]
          },
          "metadata": {
            "tags": []
          }
        }
      ]
    },
    {
      "cell_type": "markdown",
      "metadata": {
        "id": "gmgnQ8c0fcc2",
        "colab_type": "text"
      },
      "source": [
        "Visualising all 21 features with targets(class_e and class_p)"
      ]
    },
    {
      "cell_type": "markdown",
      "metadata": {
        "id": "TuCSi-0WDN17",
        "colab_type": "text"
      },
      "source": [
        "code for visualsing all 21 features is written"
      ]
    },
    {
      "cell_type": "markdown",
      "metadata": {
        "id": "16SSyLXSDke_",
        "colab_type": "text"
      },
      "source": [
        "each feature is plotted for edible as well as poisonous mushroom in order to get a better look how features are effecting target.\n",
        "\n",
        "Scroll down a lot to see the graphs !!"
      ]
    },
    {
      "cell_type": "code",
      "metadata": {
        "id": "Gnk5-sqsfUbQ",
        "colab_type": "code",
        "outputId": "e8947aca-7a39-4155-8830-9ef25b7ad9ff",
        "colab": {
          "base_uri": "https://localhost:8080/",
          "height": 1000
        }
      },
      "source": [
        "fig=plt.figure(figsize=(16,20))\n",
        "\n",
        "# data to plot \n",
        "means_frank = (1880, 1408, 240, 256, 136, 96, 192)  #just a variable\n",
        "means_guido = (1268, 740, 592, 36, 1008, 272, 0)    #just a variable\n",
        "n_groups = len(means_frank)\n",
        "# create plot\n",
        "index = np.arange(n_groups)\n",
        "bar_width = 0.35\n",
        "opacity = 0.8\n",
        "plt.subplot(6,4,1)\n",
        "rects1 = plt.bar(index, means_frank, bar_width,alpha=opacity,color='b',label='e')\n",
        "rects2 = plt.bar(index + bar_width, means_guido, bar_width,alpha=opacity,color='y',label='p')\n",
        "plt.xlabel('Habitat')\n",
        "plt.ylabel('class')\n",
        "plt.title('habitat vs class')\n",
        "plt.xticks(index + bar_width, ('d',\n",
        "       'g', 'l', 'm', 'p', 'u',\n",
        "       'w'))\n",
        "plt.legend()\n",
        "\n",
        "\n",
        "# data to plot \n",
        "means_frank = (384, 288, 400, 880, 1192, 1064)\n",
        "means_guido = (0, 52, 0, 368, 2848, 648)\n",
        "n_groups = len(means_frank)\n",
        "# create plot\n",
        "index = np.arange(n_groups)\n",
        "bar_width = 0.35\n",
        "opacity = 0.8\n",
        "plt.subplot(6,4,2)\n",
        "rects1 = plt.bar(index, means_frank, bar_width,alpha=opacity,color='b',label='e')\n",
        "rects2 = plt.bar(index + bar_width, means_guido, bar_width,alpha=opacity,color='y',label='p')\n",
        "plt.xlabel('population')\n",
        "plt.ylabel('class')\n",
        "plt.title('popultaion vs class')\n",
        "plt.xticks(index + bar_width, ('a', 'c', 'n', 's',\n",
        "       'v', 'y'))\n",
        "plt.legend()\n",
        "\n",
        "\n",
        "# data to plot \n",
        "means_frank = ( 48, 48, 1648, 1744, 48, 0, 48, 576, 48, 384)\n",
        "means_guido = (0, 1584, 224, 224, 0, 72, 0, 1812, 0, 0)\n",
        "n_groups = len(means_frank)\n",
        "# create plot\n",
        "index = np.arange(n_groups)\n",
        "bar_width = 0.35\n",
        "opacity = 0.8\n",
        "plt.subplot(6,4,3)\n",
        "rects1 = plt.bar(index, means_frank, bar_width,alpha=opacity,color='b',label='e')\n",
        "rects2 = plt.bar(index + bar_width, means_guido, bar_width,alpha=opacity,color='y',label='p')\n",
        "plt.xlabel('spore_print_color')\n",
        "plt.ylabel('class')\n",
        "plt.title('spore_print_color vs class')\n",
        "plt.xticks(index + bar_width, ('b', 'h', 'k',\n",
        "        'n','o', 'r',\n",
        "        'u', 'w', 'y'))\n",
        "plt.legend()\n",
        "\n",
        "# data to plot \n",
        "means_frank = ( 1008, 48, 0, 0, 3152)\n",
        "means_guido = ( 1768, 0, 1296, 36, 816)\n",
        "n_groups = len(means_frank)\n",
        "# create plot\n",
        "index = np.arange(n_groups)\n",
        "bar_width = 0.35\n",
        "opacity = 0.8\n",
        "plt.subplot(6,4,4)\n",
        "rects1 = plt.bar(index, means_frank, bar_width,alpha=opacity,color='b',label='e')\n",
        "rects2 = plt.bar(index + bar_width, means_guido, bar_width,alpha=opacity,color='y',label='p')\n",
        "plt.xlabel('ring_type')\n",
        "plt.ylabel('class')\n",
        "plt.title('ring_type vs class')\n",
        "plt.xticks(index + bar_width, ('e', 'f', 'l',\n",
        "       'n', 'p'))\n",
        "plt.legend()\n",
        "\n",
        "#5\n",
        "# data to plot \n",
        "means_frank = (0, 3680, 528)\n",
        "means_guido = (36, 3808, 72)\n",
        "n_groups = len(means_frank)\n",
        "# create plot\n",
        "index = np.arange(n_groups)\n",
        "bar_width = 0.35\n",
        "opacity = 0.8\n",
        "plt.subplot(6,4,5)\n",
        "rects1 = plt.bar(index, means_frank, bar_width,alpha=opacity,color='b',label='e')\n",
        "rects2 = plt.bar(index + bar_width, means_guido, bar_width,alpha=opacity,color='y',label='p')\n",
        "plt.xlabel('ring_number')\n",
        "plt.ylabel('class')\n",
        "plt.title('ring_number vs class')\n",
        "plt.xticks(index + bar_width, ('n', 'o',\n",
        "       't'))\n",
        "plt.legend()\n",
        "\n",
        "#6\n",
        "# data to plot \n",
        "means_frank = (96, 96, 4016, 0)\n",
        "means_guido = (0, 0, 3908, 8)\n",
        "n_groups = len(means_frank)\n",
        "# create plot\n",
        "index = np.arange(n_groups)\n",
        "bar_width = 0.35\n",
        "opacity = 0.8\n",
        "plt.subplot(6,4,6)\n",
        "rects1 = plt.bar(index, means_frank, bar_width,alpha=opacity,color='b',label='e')\n",
        "rects2 = plt.bar(index + bar_width, means_guido, bar_width,alpha=opacity,color='y',label='p')\n",
        "plt.xlabel('veil_color')\n",
        "plt.ylabel('class')\n",
        "plt.title('veil_color vs class')\n",
        "plt.xticks(index + bar_width, ('n',\n",
        "        'o', 'w', 'y'))\n",
        "plt.legend()\n",
        "\n",
        "#7\n",
        "# data to plot \n",
        "means_frank = (0, 0, 96, 576, 64, 192, 576, 2704, 0)\n",
        "means_guido = (432, 36, 0, 0, 448, 0, 1296, 1680, 24)\n",
        "n_groups = len(means_frank)\n",
        "# create plot\n",
        "index = np.arange(n_groups)\n",
        "bar_width = 0.35\n",
        "opacity = 0.8\n",
        "plt.subplot(6,4,7)\n",
        "rects1 = plt.bar(index, means_frank, bar_width,alpha=opacity,color='b',label='e')\n",
        "rects2 = plt.bar(index + bar_width, means_guido, bar_width,alpha=opacity,color='y',label='p')\n",
        "plt.xlabel('stalk_color_below_ring')\n",
        "plt.ylabel('class')\n",
        "plt.title('stalk_color_below_ring vs class')\n",
        "plt.xticks(index + bar_width, ('b',\n",
        "       'c', 'e',\n",
        "       'g', 'n',\n",
        "       'o', '_p',\n",
        "       'w', 'y'))\n",
        "plt.legend()\n",
        "\n",
        "#8\n",
        "# data to plot \n",
        "means_frank = ( 0, 0, 96, 576, 16, 192, 576, 2752, 0)\n",
        "means_guido = (432, 36, 0, 0, 432, 0, 1296, 1712, 8)\n",
        "n_groups = len(means_frank)\n",
        "# create plot\n",
        "index = np.arange(n_groups)\n",
        "bar_width = 0.35\n",
        "opacity = 0.8\n",
        "plt.subplot(6,4,8)\n",
        "rects1 = plt.bar(index, means_frank, bar_width,alpha=opacity,color='b',label='e')\n",
        "rects2 = plt.bar(index + bar_width, means_guido, bar_width,alpha=opacity,color='y',label='p')\n",
        "plt.xlabel('stalk_color_above_ring')\n",
        "plt.ylabel('class')\n",
        "plt.title('stalk_color_above_ring vs class')\n",
        "plt.xticks(index + bar_width, ('b', 'c',\n",
        "       'e', 'g',\n",
        "       'n', 'o',\n",
        "       'p', 'w',\n",
        "       'y'))\n",
        "plt.legend()\n",
        "\n",
        "#9\n",
        "# data to plot \n",
        "means_frank = (408, 144, 3640, 16)\n",
        "means_guido = (144, 2228, 1536, 8)\n",
        "n_groups = len(means_frank)\n",
        "# create plot\n",
        "index = np.arange(n_groups)\n",
        "bar_width = 0.35\n",
        "opacity = 0.8\n",
        "plt.subplot(6,4,9)\n",
        "rects1 = plt.bar(index, means_frank, bar_width,alpha=opacity,color='b',label='e')\n",
        "rects2 = plt.bar(index + bar_width, means_guido, bar_width,alpha=opacity,color='y',label='p')\n",
        "plt.xlabel('stalk_surface_above_ring')\n",
        "plt.ylabel('class')\n",
        "plt.title('stalk_surface_above_ring vs class')\n",
        "plt.xticks(index + bar_width, ('f',\n",
        "       'k', 's',\n",
        "       'y'))\n",
        "plt.legend()\n",
        "\n",
        "\n",
        "#10\n",
        "# data to plot \n",
        "means_frank = (456, 144, 3400, 208)\n",
        "means_guido = (144, 2160, 1536, 76)\n",
        "n_groups = len(means_frank)\n",
        "# create plot\n",
        "index = np.arange(n_groups)\n",
        "bar_width = 0.35\n",
        "opacity = 0.8\n",
        "plt.subplot(6,4,10)\n",
        "rects1 = plt.bar(index, means_frank, bar_width,alpha=opacity,color='b',label='e')\n",
        "rects2 = plt.bar(index + bar_width, means_guido, bar_width,alpha=opacity,color='y',label='p')\n",
        "plt.xlabel('stalk_surface_below_ring')\n",
        "plt.ylabel('class')\n",
        "plt.title('stalk_surface_below_ring vs class')\n",
        "plt.xticks(index + bar_width, ('f',\n",
        "       'k', 's',\n",
        "       'y'))\n",
        "plt.legend()\n",
        "\n",
        "\n",
        "#11\n",
        "# data to plot \n",
        "means_frank = ( 1920, 512, 864, 192)\n",
        "means_guido = (1856, 44, 256, 0)\n",
        "n_groups = len(means_frank)\n",
        "# create plot\n",
        "index = np.arange(n_groups)\n",
        "bar_width = 0.35\n",
        "opacity = 0.8\n",
        "plt.subplot(6,4,11)\n",
        "rects1 = plt.bar(index, means_frank, bar_width,alpha=opacity,color='b',label='e')\n",
        "rects2 = plt.bar(index + bar_width, means_guido, bar_width,alpha=opacity,color='y',label='p')\n",
        "plt.xlabel('stalk_root')\n",
        "plt.ylabel('class')\n",
        "plt.title('stalk_root vs class')\n",
        "plt.xticks(index + bar_width, ('b','c','e','r'))\n",
        "plt.legend()\n",
        "\n",
        "#12\n",
        "# data to plot \n",
        "means_frank = ( 1616, 2592)\n",
        "means_guido = (1900, 2016)\n",
        "n_groups = len(means_frank)\n",
        "# create plot\n",
        "index = np.arange(n_groups)\n",
        "bar_width = 0.35\n",
        "opacity = 0.8\n",
        "plt.subplot(6,4,12)\n",
        "rects1 = plt.bar(index, means_frank, bar_width,alpha=opacity,color='b',label='e')\n",
        "rects2 = plt.bar(index + bar_width, means_guido, bar_width,alpha=opacity,color='y',label='p')\n",
        "plt.xlabel('stalk_shape')\n",
        "plt.ylabel('class')\n",
        "plt.title('stalk_shape vs class')\n",
        "plt.xticks(index + bar_width, ('e', 't'))\n",
        "plt.legend()\n",
        "\n",
        "#13\n",
        "\n",
        "# data to plot \n",
        "means_frank = ( 0, 96, 248, 204, 344, 936, 64, 852, 0, 444, 956, 64)\n",
        "means_guido = (1728, 0, 504, 528, 64, 112, 0, 640, 24, 48, 246, 22)\n",
        "n_groups = len(means_frank)\n",
        "# create plot\n",
        "index = np.arange(n_groups)\n",
        "bar_width = 0.35\n",
        "opacity = 0.8\n",
        "plt.subplot(6,4,13)\n",
        "rects1 = plt.bar(index, means_frank, bar_width,alpha=opacity,color='b',label='e')\n",
        "rects2 = plt.bar(index + bar_width, means_guido, bar_width,alpha=opacity,color='y',label='p')\n",
        "plt.xlabel('gill_color')\n",
        "plt.ylabel('class')\n",
        "plt.title('gill_color vs class')\n",
        "plt.xticks(index + bar_width, ('b', 'e', 'g', 'h',\n",
        "       'k', 'n', 'o', 'p',\n",
        "       'r', 'u', 'w', 'y',))\n",
        "plt.legend()\n",
        "\n",
        "#14\n",
        "# data to plot \n",
        "means_frank = (3920, 288)\n",
        "means_guido = (1692, 2224)\n",
        "n_groups = len(means_frank)\n",
        "# create plot\n",
        "index = np.arange(n_groups)\n",
        "bar_width = 0.35\n",
        "opacity = 0.8\n",
        "plt.subplot(6,4,14)\n",
        "rects1 = plt.bar(index, means_frank, bar_width,alpha=opacity,color='b',label='e')\n",
        "rects2 = plt.bar(index + bar_width, means_guido, bar_width,alpha=opacity,color='y',label='p')\n",
        "plt.xlabel('gill_size')\n",
        "plt.ylabel('class')\n",
        "plt.title('gill_size vs class')\n",
        "plt.xticks(index + bar_width, ('b','n'))\n",
        "plt.legend()\n",
        "\n",
        "\n",
        "#15\n",
        "\n",
        "# data to plot \n",
        "means_frank = (192, 4016)\n",
        "means_guido = (18, 3898)\n",
        "n_groups = len(means_frank)\n",
        "# create plot\n",
        "index = np.arange(n_groups)\n",
        "bar_width = 0.35\n",
        "opacity = 0.8\n",
        "plt.subplot(6,4,15)\n",
        "rects1 = plt.bar(index, means_frank, bar_width,alpha=opacity,color='b',label='e')\n",
        "rects2 = plt.bar(index + bar_width, means_guido, bar_width,alpha=opacity,color='y',label='p')\n",
        "plt.xlabel('gill_attachment')\n",
        "plt.ylabel('class')\n",
        "plt.title('gill_attachment vs class')\n",
        "plt.xticks(index + bar_width, ('a','f'))\n",
        "plt.legend()\n",
        "\n",
        "#16\n",
        "# data to plot \n",
        "means_frank = (3008, 1200)\n",
        "means_guido = (3804, 112)\n",
        "n_groups = len(means_frank)\n",
        "# create plot\n",
        "index = np.arange(n_groups)\n",
        "bar_width = 0.35\n",
        "opacity = 0.8\n",
        "plt.subplot(6,4,16)\n",
        "rects1 = plt.bar(index, means_frank, bar_width,alpha=opacity,color='b',label='e')\n",
        "rects2 = plt.bar(index + bar_width, means_guido, bar_width,alpha=opacity,color='y',label='p')\n",
        "plt.xlabel('gill_spacing')\n",
        "plt.ylabel('class')\n",
        "plt.title('gill_spacing vs class')\n",
        "plt.xticks(index + bar_width, ('c', 'w'))\n",
        "plt.legend()\n",
        "\n",
        "#17\n",
        "# data to plot \n",
        "means_frank = (400, 0, 0, 400, 0, 3408, 0, 0, 0)\n",
        "means_guido = ( 0, 192, 2160, 0, 36, 120, 256, 576, 576)\n",
        "n_groups = len(means_frank)\n",
        "# create plot\n",
        "index = np.arange(n_groups)\n",
        "bar_width = 0.35\n",
        "opacity = 0.8\n",
        "plt.subplot(6,4,17)\n",
        "rects1 = plt.bar(index, means_frank, bar_width,alpha=opacity,color='b',label='e')\n",
        "rects2 = plt.bar(index + bar_width, means_guido, bar_width,alpha=opacity,color='y',label='p')\n",
        "plt.xlabel('odor')\n",
        "plt.ylabel('class')\n",
        "plt.title('odor vs class')\n",
        "plt.xticks(index + bar_width, ('a',\n",
        "       'c', 'f', 'l', 'm', 'n', 'p', 's',\n",
        "       'y'))\n",
        "plt.legend()\n",
        "\n",
        "#18\n",
        "# data to plot \n",
        "means_frank = (1456, 2752)\n",
        "means_guido = (3292, 624)\n",
        "n_groups = len(means_frank)\n",
        "index = np.arange(n_groups)\n",
        "bar_width = 0.35\n",
        "opacity = 0.8\n",
        "plt.subplot(6,4,18)\n",
        "rects1 = plt.bar(index, means_frank, bar_width,alpha=opacity,color='b',label='e')\n",
        "rects2 = plt.bar(index + bar_width, means_guido, bar_width,alpha=opacity,color='y',label='p')\n",
        "plt.xlabel('bruises')\n",
        "plt.ylabel('class')\n",
        "plt.title('bruises vs class')\n",
        "plt.xticks(index + bar_width, ('f','t'))\n",
        "plt.legend()\n",
        "\n",
        "#19\n",
        "# data to plot \n",
        "means_frank = (48, 32, 624, 1032, 1264, 56, 16, 16, 720, 400)\n",
        "means_guido = (120, 12, 876, 808, 1020, 88, 0, 0, 320, 672)\n",
        "n_groups = len(means_frank)\n",
        "index = np.arange(n_groups)\n",
        "bar_width = 0.35\n",
        "opacity = 0.8\n",
        "plt.subplot(6,4,19)\n",
        "rects1 = plt.bar(index, means_frank, bar_width,alpha=opacity,color='b',label='e')\n",
        "\n",
        "rects2 = plt.bar(index + bar_width, means_guido, bar_width,alpha=opacity,color='y',label='p')\n",
        "\n",
        "plt.xlabel('cap_color')\n",
        "plt.ylabel('class')\n",
        "plt.title('cap_color vs class')\n",
        "plt.xticks(index + bar_width, ('b', 'c',\n",
        "       'e', 'g', 'n', 'p',\n",
        "       'r', 'u', 'w', 'y'))\n",
        "plt.legend()\n",
        "#20\n",
        "# data to plot \n",
        "means_frank = (1560, 0, 1144, 1504)\n",
        "means_guido = (760, 4, 1412, 1740)\n",
        "n_groups = len(means_frank)\n",
        "index = np.arange(n_groups)\n",
        "bar_width = 0.35\n",
        "opacity = 0.8\n",
        "plt.subplot(6,4,20)\n",
        "rects1 = plt.bar(index, means_frank, bar_width,alpha=opacity,color='b',label='e')\n",
        "rects2 = plt.bar(index + bar_width, means_guido, bar_width,alpha=opacity,color='y',label='p')\n",
        "plt.xlabel('cap-surface')\n",
        "plt.ylabel('class')\n",
        "plt.title('cap-surface vs class')\n",
        "plt.xticks(index + bar_width, ('f','g','s','y'))\n",
        "plt.legend()\n",
        "\n",
        "#21\n",
        "# data to plot \n",
        "means_frank = (404, 0, 1596, 228, 32, 1948)\n",
        "means_guido = (48, 4, 1556, 600, 0, 1708)\n",
        "n_groups = len(means_frank)\n",
        "# create plot\n",
        "# fig, ax = plt.subplots()\n",
        "index = np.arange(n_groups)\n",
        "bar_width = 0.35\n",
        "opacity = 0.8\n",
        "plt.subplot(6,4,21)\n",
        "rects1 = plt.bar(index, means_frank, bar_width,alpha=opacity,color='b',label='e')\n",
        "\n",
        "rects2 = plt.bar(index + bar_width, means_guido, bar_width,alpha=opacity,color='y',label='p')\n",
        "\n",
        "plt.xlabel('cap-shape')\n",
        "plt.ylabel('class')\n",
        "plt.title('cap-shape vs class')\n",
        "plt.xticks(index + bar_width, ('b', 'c', 'f', 'k',\n",
        "       's', 'x'))\n",
        "plt.legend()\n",
        "fig.tight_layout(pad=0.1)\n"
      ],
      "execution_count": 0,
      "outputs": [
        {
          "output_type": "display_data",
          "data": {
            "image/png": "[encoded data removed]",
            "text/plain": [
              "<Figure size 1152x1440 with 21 Axes>"
            ]
          },
          "metadata": {
            "tags": []
          }
        }
      ]
    },
    {
      "cell_type": "markdown",
      "metadata": {
        "id": "Ah3M9sNJfxIt",
        "colab_type": "text"
      },
      "source": [
        "from this plot we can understand that not all features contribute to classify mushroom as edible and poisonous.\n",
        "\n",
        "Features having high bar, contribute more towards the target.\n",
        "\n",
        "Feature selection can be done on this basis as well."
      ]
    },
    {
      "cell_type": "markdown",
      "metadata": {
        "id": "UqT5plgXTFzg",
        "colab_type": "text"
      },
      "source": [
        "Here for simplicity i have done PCA for feature reduction/selection."
      ]
    },
    {
      "cell_type": "markdown",
      "metadata": {
        "id": "LTCMCfYrxsg7",
        "colab_type": "text"
      },
      "source": [
        "# Nueral Network"
      ]
    },
    {
      "cell_type": "markdown",
      "metadata": {
        "id": "teWnTL7zEMaE",
        "colab_type": "text"
      },
      "source": [
        "Here activation function used is sigmoid.\n",
        "\n",
        "Sigmoid is used because it is a classification problem,\n",
        "\n",
        "Sigmoid is a mathematical function which categorises values greater than a threshold value as 1 and others as 0."
      ]
    },
    {
      "cell_type": "code",
      "metadata": {
        "id": "1xn5qSq2xhF0",
        "colab_type": "code",
        "colab": {}
      },
      "source": [
        "def sigmoid(x):\n",
        "    return 1 / (1 + np.exp(-x))\n",
        "\n",
        "#dsigmoid is the differentiation of sigmoid\n",
        "def dsigmoid(x):\n",
        "    return x * (1-x)\n"
      ],
      "execution_count": 0,
      "outputs": []
    },
    {
      "cell_type": "markdown",
      "metadata": {
        "id": "7K5UpuGUWimV",
        "colab_type": "text"
      },
      "source": [
        "![alt text](https://drive.google.com/uc?id=1t4kx2lh1xK_7SADB1RX_njjUDzeaslHO)"
      ]
    },
    {
      "cell_type": "markdown",
      "metadata": {
        "id": "JvO6PoXmGoeM",
        "colab_type": "text"
      },
      "source": [
        "feed forward and backpopogate are the 2 main functions of Nueral Network.\n",
        "\n",
        "Feed Forward function sends data in forward direction through nodes.nodes contribute to a layer. An input layer is which where input is taken, here in input layer there are features. from input layer data is sent into nodes of hidden layer through weights(w0,w1 etc). There can be multiple hidden layers.Here i have used only 1 hidden layer.from hidden layer data is sent to output nodes through weights.\n",
        "\n",
        "Weights are randomly chosen at starting using random function in numpy."
      ]
    },
    {
      "cell_type": "markdown",
      "metadata": {
        "id": "iu8-R8T7I0zW",
        "colab_type": "text"
      },
      "source": [
        "BackPropogate function starts from output node and propogates backward towards input node and tries to reduce the error by adjusting the weights in each iteration."
      ]
    },
    {
      "cell_type": "code",
      "metadata": {
        "id": "HKtLsuUJxmnp",
        "colab_type": "code",
        "colab": {}
      },
      "source": [
        "def feed_forward(data_in, w0,w1):\n",
        "    layer0 = data_in\n",
        "    layer1 = sigmoid(np.dot(layer0, w0))\n",
        "    layer2 = sigmoid(np.dot(layer1, w1))\n",
        "\n",
        "    return layer0, layer1, layer2\n",
        "\n",
        "def backpropogate(layer0, layer1, layer2, actual_y, w0,w1, learning_rate):\n",
        "\n",
        "    l2_error = layer2 - actual_y\n",
        "    l2_delta = l2_error * dsigmoid(layer2)\n",
        "    dh2 = layer1.T.dot(l2_delta)\n",
        "    \n",
        "    l1_error = l2_delta.dot(w1.T)\n",
        "    l1_delta = l1_error * dsigmoid(layer1)\n",
        "    dh1 = layer0.T.dot(l1_delta)\n",
        "    \n",
        "    w1 = w1 - (learning_rate * dh2)\n",
        "    w0 = w0 - (learning_rate * dh1)\n",
        "\n",
        "    return w0, w1"
      ],
      "execution_count": 0,
      "outputs": []
    },
    {
      "cell_type": "markdown",
      "metadata": {
        "id": "3rVmDPOHJhiO",
        "colab_type": "text"
      },
      "source": [
        "accuracy function uisng accuracy score from sklearn library is used to calculate the prediction accuracy."
      ]
    },
    {
      "cell_type": "code",
      "metadata": {
        "id": "wmrVnF9hxpga",
        "colab_type": "code",
        "colab": {}
      },
      "source": [
        "#accuracy function\n",
        "def get_accuracy(X, Y):\n",
        "  \n",
        "  layer0, layer1, y_pred = feed_forward(X, w0,w1)\n",
        "  yp = np.argmax(y_pred,axis=1)\n",
        "  yt = np.argmax(Y,axis=1)\n",
        "  return accuracy_score(yt, yp) * 100"
      ],
      "execution_count": 0,
      "outputs": []
    },
    {
      "cell_type": "markdown",
      "metadata": {
        "id": "m1062t3TJzNk",
        "colab_type": "text"
      },
      "source": [
        "for nueral network after several tries i found out that LabelEncoder works well compared to LabelBinarizer in this mushroom datset.\n",
        "\n",
        "LabelEncoder gives a number to each categorical value in the calumn of dataset whereas LabelBinarizer creates a dummy variable and binarises the data into 0s and 1s.\n"
      ]
    },
    {
      "cell_type": "code",
      "metadata": {
        "id": "1_Iv4kY0lywb",
        "colab_type": "code",
        "outputId": "a2efeb4c-4e73-4748-d113-d649f6f82756",
        "colab": {
          "base_uri": "https://localhost:8080/",
          "height": 34
        }
      },
      "source": [
        "le = LabelEncoder()\n",
        "data['class'] = le.fit_transform(data['class'])\n",
        "data[\"class\"].values"
      ],
      "execution_count": 0,
      "outputs": [
        {
          "output_type": "execute_result",
          "data": {
            "text/plain": [
              "array([1, 0, 0, ..., 0, 1, 0])"
            ]
          },
          "metadata": {
            "tags": []
          },
          "execution_count": 190
        }
      ]
    },
    {
      "cell_type": "markdown",
      "metadata": {
        "id": "RbXvoge4LRr7",
        "colab_type": "text"
      },
      "source": [
        "removing missing values and NaN vakues"
      ]
    },
    {
      "cell_type": "code",
      "metadata": {
        "id": "BMJJpv6Wdjpt",
        "colab_type": "code",
        "colab": {}
      },
      "source": [
        "bin=LabelBinarizer()\n",
        "x=bin.fit_transform(data['stalk-root'].values)\n",
        "df=pd.DataFrame(x,columns=[\"?\",\"b_stalk-root\",\"c_stalk-root\",\"e_stalk-root\",\"r_stalk-root\"])\n",
        "df=df.drop(columns=[\"?\"])\n",
        "newdf=pd.concat([df,data],axis=1)\n",
        "newdf=newdf.drop(columns=[\"stalk-root\"])\n",
        "newdf=newdf.drop(columns=[\"veil-type\"])\n",
        "df1new=newdf"
      ],
      "execution_count": 0,
      "outputs": []
    },
    {
      "cell_type": "markdown",
      "metadata": {
        "id": "WVGiiz_eLg9M",
        "colab_type": "text"
      },
      "source": [
        "LabelEncoding data"
      ]
    },
    {
      "cell_type": "code",
      "metadata": {
        "id": "tmBTDklUbDIe",
        "colab_type": "code",
        "colab": {}
      },
      "source": [
        "for col in newdf.columns:\n",
        "  newdf[col]=le.fit_transform(newdf[col].values)"
      ],
      "execution_count": 0,
      "outputs": []
    },
    {
      "cell_type": "markdown",
      "metadata": {
        "id": "zURhFfpbLkz8",
        "colab_type": "text"
      },
      "source": [
        "now the data looks like this"
      ]
    },
    {
      "cell_type": "code",
      "metadata": {
        "id": "aUVa_wPXLpIS",
        "colab_type": "code",
        "outputId": "05969dfe-ef99-4456-9dd1-9862253813fb",
        "colab": {
          "base_uri": "https://localhost:8080/",
          "height": 275
        }
      },
      "source": [
        "newdf.head()"
      ],
      "execution_count": 0,
      "outputs": [
        {
          "output_type": "execute_result",
          "data": {
            "text/html": [
              "<div>\n",
              "<style scoped>\n",
              "    .dataframe tbody tr th:only-of-type {\n",
              "        vertical-align: middle;\n",
              "    }\n",
              "\n",
              "    .dataframe tbody tr th {\n",
              "        vertical-align: top;\n",
              "    }\n",
              "\n",
              "    .dataframe thead th {\n",
              "        text-align: right;\n",
              "    }\n",
              "</style>\n",
              "<table border=\"1\" class=\"dataframe\">\n",
              "  <thead>\n",
              "    <tr style=\"text-align: right;\">\n",
              "      <th></th>\n",
              "      <th>b_stalk-root</th>\n",
              "      <th>c_stalk-root</th>\n",
              "      <th>e_stalk-root</th>\n",
              "      <th>r_stalk-root</th>\n",
              "      <th>class</th>\n",
              "      <th>cap-shape</th>\n",
              "      <th>cap-surface</th>\n",
              "      <th>cap-color</th>\n",
              "      <th>bruises?</th>\n",
              "      <th>odor</th>\n",
              "      <th>gill-attachment</th>\n",
              "      <th>gill-spacing</th>\n",
              "      <th>gill-size</th>\n",
              "      <th>gill-color</th>\n",
              "      <th>stalk-shape</th>\n",
              "      <th>stalk-surface-above-ring</th>\n",
              "      <th>stalk-surface-below-ring</th>\n",
              "      <th>stalk-color-above-ring</th>\n",
              "      <th>stalk-color-below-ring</th>\n",
              "      <th>veil-color</th>\n",
              "      <th>ring-number</th>\n",
              "      <th>ring-type</th>\n",
              "      <th>spore-print-color</th>\n",
              "      <th>population</th>\n",
              "      <th>habitat</th>\n",
              "    </tr>\n",
              "  </thead>\n",
              "  <tbody>\n",
              "    <tr>\n",
              "      <th>0</th>\n",
              "      <td>0</td>\n",
              "      <td>0</td>\n",
              "      <td>1</td>\n",
              "      <td>0</td>\n",
              "      <td>1</td>\n",
              "      <td>5</td>\n",
              "      <td>2</td>\n",
              "      <td>4</td>\n",
              "      <td>1</td>\n",
              "      <td>6</td>\n",
              "      <td>1</td>\n",
              "      <td>0</td>\n",
              "      <td>1</td>\n",
              "      <td>4</td>\n",
              "      <td>0</td>\n",
              "      <td>2</td>\n",
              "      <td>2</td>\n",
              "      <td>7</td>\n",
              "      <td>7</td>\n",
              "      <td>2</td>\n",
              "      <td>1</td>\n",
              "      <td>4</td>\n",
              "      <td>2</td>\n",
              "      <td>3</td>\n",
              "      <td>5</td>\n",
              "    </tr>\n",
              "    <tr>\n",
              "      <th>1</th>\n",
              "      <td>0</td>\n",
              "      <td>1</td>\n",
              "      <td>0</td>\n",
              "      <td>0</td>\n",
              "      <td>0</td>\n",
              "      <td>5</td>\n",
              "      <td>2</td>\n",
              "      <td>9</td>\n",
              "      <td>1</td>\n",
              "      <td>0</td>\n",
              "      <td>1</td>\n",
              "      <td>0</td>\n",
              "      <td>0</td>\n",
              "      <td>4</td>\n",
              "      <td>0</td>\n",
              "      <td>2</td>\n",
              "      <td>2</td>\n",
              "      <td>7</td>\n",
              "      <td>7</td>\n",
              "      <td>2</td>\n",
              "      <td>1</td>\n",
              "      <td>4</td>\n",
              "      <td>3</td>\n",
              "      <td>2</td>\n",
              "      <td>1</td>\n",
              "    </tr>\n",
              "    <tr>\n",
              "      <th>2</th>\n",
              "      <td>0</td>\n",
              "      <td>1</td>\n",
              "      <td>0</td>\n",
              "      <td>0</td>\n",
              "      <td>0</td>\n",
              "      <td>0</td>\n",
              "      <td>2</td>\n",
              "      <td>8</td>\n",
              "      <td>1</td>\n",
              "      <td>3</td>\n",
              "      <td>1</td>\n",
              "      <td>0</td>\n",
              "      <td>0</td>\n",
              "      <td>5</td>\n",
              "      <td>0</td>\n",
              "      <td>2</td>\n",
              "      <td>2</td>\n",
              "      <td>7</td>\n",
              "      <td>7</td>\n",
              "      <td>2</td>\n",
              "      <td>1</td>\n",
              "      <td>4</td>\n",
              "      <td>3</td>\n",
              "      <td>2</td>\n",
              "      <td>3</td>\n",
              "    </tr>\n",
              "    <tr>\n",
              "      <th>3</th>\n",
              "      <td>0</td>\n",
              "      <td>0</td>\n",
              "      <td>1</td>\n",
              "      <td>0</td>\n",
              "      <td>1</td>\n",
              "      <td>5</td>\n",
              "      <td>3</td>\n",
              "      <td>8</td>\n",
              "      <td>1</td>\n",
              "      <td>6</td>\n",
              "      <td>1</td>\n",
              "      <td>0</td>\n",
              "      <td>1</td>\n",
              "      <td>5</td>\n",
              "      <td>0</td>\n",
              "      <td>2</td>\n",
              "      <td>2</td>\n",
              "      <td>7</td>\n",
              "      <td>7</td>\n",
              "      <td>2</td>\n",
              "      <td>1</td>\n",
              "      <td>4</td>\n",
              "      <td>2</td>\n",
              "      <td>3</td>\n",
              "      <td>5</td>\n",
              "    </tr>\n",
              "    <tr>\n",
              "      <th>4</th>\n",
              "      <td>0</td>\n",
              "      <td>0</td>\n",
              "      <td>1</td>\n",
              "      <td>0</td>\n",
              "      <td>0</td>\n",
              "      <td>5</td>\n",
              "      <td>2</td>\n",
              "      <td>3</td>\n",
              "      <td>0</td>\n",
              "      <td>5</td>\n",
              "      <td>1</td>\n",
              "      <td>1</td>\n",
              "      <td>0</td>\n",
              "      <td>4</td>\n",
              "      <td>1</td>\n",
              "      <td>2</td>\n",
              "      <td>2</td>\n",
              "      <td>7</td>\n",
              "      <td>7</td>\n",
              "      <td>2</td>\n",
              "      <td>1</td>\n",
              "      <td>0</td>\n",
              "      <td>3</td>\n",
              "      <td>0</td>\n",
              "      <td>1</td>\n",
              "    </tr>\n",
              "  </tbody>\n",
              "</table>\n",
              "</div>"
            ],
            "text/plain": [
              "   b_stalk-root  c_stalk-root  ...  population  habitat\n",
              "0             0             0  ...           3        5\n",
              "1             0             1  ...           2        1\n",
              "2             0             1  ...           2        3\n",
              "3             0             0  ...           3        5\n",
              "4             0             0  ...           0        1\n",
              "\n",
              "[5 rows x 25 columns]"
            ]
          },
          "metadata": {
            "tags": []
          },
          "execution_count": 193
        }
      ]
    },
    {
      "cell_type": "markdown",
      "metadata": {
        "id": "w3BZCgvCLuvj",
        "colab_type": "text"
      },
      "source": [
        "target is \"class\" i.e 4th column"
      ]
    },
    {
      "cell_type": "code",
      "metadata": {
        "id": "OlzMH_xUfvch",
        "colab_type": "code",
        "colab": {}
      },
      "source": [
        "target=newdf.values[:,4]"
      ],
      "execution_count": 0,
      "outputs": []
    },
    {
      "cell_type": "markdown",
      "metadata": {
        "id": "5dV87w7IL9K8",
        "colab_type": "text"
      },
      "source": [
        "normalising data\n",
        "\n",
        "data is normalised so that data is in between 0 and 1 and to ensure that there is no weightage towards a particular value"
      ]
    },
    {
      "cell_type": "code",
      "metadata": {
        "id": "TZ7ZKgg6zGuj",
        "colab_type": "code",
        "colab": {}
      },
      "source": [
        "newdf=(newdf-newdf.min())/(newdf.max()-newdf.min())\n",
        "df1=newdf.drop(columns=[\"class\"])\n",
        "features=df1.values"
      ],
      "execution_count": 0,
      "outputs": []
    },
    {
      "cell_type": "markdown",
      "metadata": {
        "id": "do8z-MCoMmaG",
        "colab_type": "text"
      },
      "source": [
        "one hot encoding of target\n",
        "\n",
        "One hot encoding is a process by which categorical variables are converted into a form that could be provided to ML algorithms to do a better job in prediction. The categorical value represents the numerical value of the entry in the dataset."
      ]
    },
    {
      "cell_type": "code",
      "metadata": {
        "id": "tiSUVQfRfIdQ",
        "colab_type": "code",
        "colab": {}
      },
      "source": [
        "encoder = OneHotEncoder(handle_unknown='ignore')\n",
        "one_hot_targets = encoder.fit_transform(target.reshape(-1,1)).toarray()"
      ],
      "execution_count": 0,
      "outputs": []
    },
    {
      "cell_type": "markdown",
      "metadata": {
        "id": "BYQhifwyPBBs",
        "colab_type": "text"
      },
      "source": [
        "PCA: Principal Component Analysis\n",
        "\n",
        "Principal component analysis (PCA) is a technique used for identification of a smaller number of uncorrelated variables known as principal components from a larger set of data. The technique is widely used to emphasize variation and capture strong patterns in a data set."
      ]
    },
    {
      "cell_type": "code",
      "metadata": {
        "id": "VgBPiC0HhLwV",
        "colab_type": "code",
        "colab": {}
      },
      "source": [
        "pca = PCA(n_components=0.9) \n",
        "reduced_features = pca.fit_transform(features) "
      ],
      "execution_count": 0,
      "outputs": []
    },
    {
      "cell_type": "code",
      "metadata": {
        "id": "K-NbpYSahcv5",
        "colab_type": "code",
        "outputId": "4c63abe9-7950-4db1-df75-6a0f49c2b4ba",
        "colab": {
          "base_uri": "https://localhost:8080/",
          "height": 34
        }
      },
      "source": [
        "len(reduced_features[0])"
      ],
      "execution_count": 0,
      "outputs": [
        {
          "output_type": "execute_result",
          "data": {
            "text/plain": [
              "12"
            ]
          },
          "metadata": {
            "tags": []
          },
          "execution_count": 198
        }
      ]
    },
    {
      "cell_type": "markdown",
      "metadata": {
        "id": "nENWuoniPfxS",
        "colab_type": "text"
      },
      "source": [
        "ranndom.seed() is used to repropoduce same random value at each execution.\n",
        "if the argument number is changed different value will be produced while execution. "
      ]
    },
    {
      "cell_type": "code",
      "metadata": {
        "id": "Ju4UA9RcjvH6",
        "colab_type": "code",
        "colab": {}
      },
      "source": [
        "np.random.seed(1)\n",
        "input_nodes= len(reduced_features[0])"
      ],
      "execution_count": 0,
      "outputs": []
    },
    {
      "cell_type": "markdown",
      "metadata": {
        "id": "mOEkJTVpQLH7",
        "colab_type": "text"
      },
      "source": [
        "random value of weights are initialised at starting"
      ]
    },
    {
      "cell_type": "code",
      "metadata": {
        "id": "BUjbS4qHnXJg",
        "colab_type": "code",
        "colab": {}
      },
      "source": [
        "w0=np.random.random((input_nodes,5))\n",
        "w1=np.random.random((5,2))"
      ],
      "execution_count": 0,
      "outputs": []
    },
    {
      "cell_type": "markdown",
      "metadata": {
        "id": "Nd-4y39rQR24",
        "colab_type": "text"
      },
      "source": [
        "splitting dataset for training and testing using train_test_split() from sklearn library.\n",
        "\n",
        "Model is trained on training dataset i.e here around 70% of dataset and model is tested after training on remaining 30% dataset i.e test dataset."
      ]
    },
    {
      "cell_type": "code",
      "metadata": {
        "id": "V4AIJaH1q6c5",
        "colab_type": "code",
        "colab": {}
      },
      "source": [
        "xtrain, xtest, ytrain, ytest = train_test_split(reduced_features, one_hot_targets, test_size = 0.3)"
      ],
      "execution_count": 0,
      "outputs": []
    },
    {
      "cell_type": "markdown",
      "metadata": {
        "id": "-8-rVfCVXLI8",
        "colab_type": "text"
      },
      "source": [
        "initialising number of iterations"
      ]
    },
    {
      "cell_type": "code",
      "metadata": {
        "colab_type": "code",
        "id": "EJjpD7J_xO0M",
        "colab": {}
      },
      "source": [
        "iterations=10000\n",
        "error=[]"
      ],
      "execution_count": 0,
      "outputs": []
    },
    {
      "cell_type": "markdown",
      "metadata": {
        "id": "UgJvxDE2RE_N",
        "colab_type": "text"
      },
      "source": [
        "**training**\n",
        "\n",
        "TQDM is a progress bar library.\n",
        "\n",
        "Here the training of model is done on train dataset by invoking feedforward and backpropogate functions.Error after every 1000 iterations get printed."
      ]
    },
    {
      "cell_type": "code",
      "metadata": {
        "colab_type": "code",
        "outputId": "cc1ca9b0-c035-4768-ce24-d57d8b918bc2",
        "id": "N6mqjj_6xOz_",
        "colab": {
          "base_uri": "https://localhost:8080/",
          "height": 287,
          "referenced_widgets": [
            "1e16215aae634334a9ea3f53d6e9792e",
            "ce2ebc74b7954213bc1f86ca3e8095aa",
            "2c61045e7e084f818566f0a24526a587",
            "769e1b258df24fbcab9abbc172bbcfc1",
            "3456fd891f31400bacbdc83bc1b064a4",
            "6f40c80627fd4e9c9a8b14375c767059",
            "f3e8f7b8a9764164be1dafbebd0d43d6",
            "1b506a2b79a4477eaf396559fb499fe9"
          ]
        }
      },
      "source": [
        "for i in tqdm_notebook(range(iterations)):\n",
        "  \n",
        "  layer0, layer1, layer2 = feed_forward(xtrain, w0,w1)\n",
        "  w0,w1= backpropogate(layer0, layer1, layer2, ytrain, w0,w1, 0.001)\n",
        "  error = np.mean(np.abs(layer2-ytrain))\n",
        "  if i%1000 ==0:\n",
        "    print(f\"error{error}\")"
      ],
      "execution_count": 0,
      "outputs": [
        {
          "output_type": "stream",
          "text": [
            "/usr/local/lib/python3.6/dist-packages/ipykernel_launcher.py:1: TqdmDeprecationWarning: This function will be removed in tqdm==5.0.0\n",
            "Please use `tqdm.notebook.tqdm` instead of `tqdm.tqdm_notebook`\n",
            "  \"\"\"Entry point for launching an IPython kernel.\n"
          ],
          "name": "stderr"
        },
        {
          "output_type": "display_data",
          "data": {
            "application/vnd.jupyter.widget-view+json": {
              "model_id": "1e16215aae634334a9ea3f53d6e9792e",
              "version_minor": 0,
              "version_major": 2
            },
            "text/plain": [
              "HBox(children=(IntProgress(value=0, max=10000), HTML(value='')))"
            ]
          },
          "metadata": {
            "tags": []
          }
        },
        {
          "output_type": "stream",
          "text": [
            "error0.4993103834408708\n",
            "error0.06761416420480715\n",
            "error0.05591771201500416\n",
            "error0.04671533601782235\n",
            "error0.041219703667274885\n",
            "error0.035230258279504545\n",
            "error0.03175890687431885\n",
            "error0.029479806888127364\n",
            "error0.027806013169685572\n",
            "error0.0265149461155082\n",
            "\n"
          ],
          "name": "stdout"
        }
      ]
    },
    {
      "cell_type": "markdown",
      "metadata": {
        "colab_type": "text",
        "id": "2BXDYaP_xOz8"
      },
      "source": [
        "**Accuracy**\n",
        "\n",
        "for train dataset"
      ]
    },
    {
      "cell_type": "code",
      "metadata": {
        "colab_type": "code",
        "outputId": "e0d53944-ebe8-4c9b-c5d2-48953b9605e6",
        "id": "yNc8sF6kxOzq",
        "colab": {
          "base_uri": "https://localhost:8080/",
          "height": 34
        }
      },
      "source": [
        "get_accuracy(xtrain,ytrain)"
      ],
      "execution_count": 0,
      "outputs": [
        {
          "output_type": "execute_result",
          "data": {
            "text/plain": [
              "98.25888146324306"
            ]
          },
          "metadata": {
            "tags": []
          },
          "execution_count": 204
        }
      ]
    },
    {
      "cell_type": "markdown",
      "metadata": {
        "id": "t4LS9yroR_Vm",
        "colab_type": "text"
      },
      "source": [
        "for test dataset"
      ]
    },
    {
      "cell_type": "code",
      "metadata": {
        "colab_type": "code",
        "outputId": "a81a862b-e0cf-4a7f-ae47-76b3d2aa8d03",
        "id": "AfGI-U0IxOy1",
        "colab": {
          "base_uri": "https://localhost:8080/",
          "height": 34
        }
      },
      "source": [
        "get_accuracy(xtest,ytest)"
      ],
      "execution_count": 0,
      "outputs": [
        {
          "output_type": "execute_result",
          "data": {
            "text/plain": [
              "98.15422477440525"
            ]
          },
          "metadata": {
            "tags": []
          },
          "execution_count": 205
        }
      ]
    },
    {
      "cell_type": "markdown",
      "metadata": {
        "id": "p7WNGltncZBn",
        "colab_type": "text"
      },
      "source": [
        "# Logistic regression"
      ]
    },
    {
      "cell_type": "markdown",
      "metadata": {
        "id": "276dtA----ad",
        "colab_type": "text"
      },
      "source": [
        "Logistic regression is a statistical model that in its basic form uses a logistic function to model a binary dependent variable, although many more complex extensions exist."
      ]
    },
    {
      "cell_type": "markdown",
      "metadata": {
        "id": "cObztkn-XxNC",
        "colab_type": "text"
      },
      "source": [
        "get_dummies() creates unique columns"
      ]
    },
    {
      "cell_type": "code",
      "metadata": {
        "id": "PtsudS_k8GMD",
        "colab_type": "code",
        "outputId": "bb4976a9-fe0e-4c8c-d71d-a8610dfd7301",
        "colab": {
          "base_uri": "https://localhost:8080/",
          "height": 275
        }
      },
      "source": [
        "encoded_data = pd.get_dummies(df1new)\n",
        "\n",
        "encoded_data.head(5)"
      ],
      "execution_count": 0,
      "outputs": [
        {
          "output_type": "execute_result",
          "data": {
            "text/html": [
              "<div>\n",
              "<style scoped>\n",
              "    .dataframe tbody tr th:only-of-type {\n",
              "        vertical-align: middle;\n",
              "    }\n",
              "\n",
              "    .dataframe tbody tr th {\n",
              "        vertical-align: top;\n",
              "    }\n",
              "\n",
              "    .dataframe thead th {\n",
              "        text-align: right;\n",
              "    }\n",
              "</style>\n",
              "<table border=\"1\" class=\"dataframe\">\n",
              "  <thead>\n",
              "    <tr style=\"text-align: right;\">\n",
              "      <th></th>\n",
              "      <th>b_stalk-root</th>\n",
              "      <th>c_stalk-root</th>\n",
              "      <th>e_stalk-root</th>\n",
              "      <th>r_stalk-root</th>\n",
              "      <th>class</th>\n",
              "      <th>cap-shape</th>\n",
              "      <th>cap-surface</th>\n",
              "      <th>cap-color</th>\n",
              "      <th>bruises?</th>\n",
              "      <th>odor</th>\n",
              "      <th>gill-attachment</th>\n",
              "      <th>gill-spacing</th>\n",
              "      <th>gill-size</th>\n",
              "      <th>gill-color</th>\n",
              "      <th>stalk-shape</th>\n",
              "      <th>stalk-surface-above-ring</th>\n",
              "      <th>stalk-surface-below-ring</th>\n",
              "      <th>stalk-color-above-ring</th>\n",
              "      <th>stalk-color-below-ring</th>\n",
              "      <th>veil-color</th>\n",
              "      <th>ring-number</th>\n",
              "      <th>ring-type</th>\n",
              "      <th>spore-print-color</th>\n",
              "      <th>population</th>\n",
              "      <th>habitat</th>\n",
              "    </tr>\n",
              "  </thead>\n",
              "  <tbody>\n",
              "    <tr>\n",
              "      <th>0</th>\n",
              "      <td>0</td>\n",
              "      <td>0</td>\n",
              "      <td>1</td>\n",
              "      <td>0</td>\n",
              "      <td>1</td>\n",
              "      <td>5</td>\n",
              "      <td>2</td>\n",
              "      <td>4</td>\n",
              "      <td>1</td>\n",
              "      <td>6</td>\n",
              "      <td>1</td>\n",
              "      <td>0</td>\n",
              "      <td>1</td>\n",
              "      <td>4</td>\n",
              "      <td>0</td>\n",
              "      <td>2</td>\n",
              "      <td>2</td>\n",
              "      <td>7</td>\n",
              "      <td>7</td>\n",
              "      <td>2</td>\n",
              "      <td>1</td>\n",
              "      <td>4</td>\n",
              "      <td>2</td>\n",
              "      <td>3</td>\n",
              "      <td>5</td>\n",
              "    </tr>\n",
              "    <tr>\n",
              "      <th>1</th>\n",
              "      <td>0</td>\n",
              "      <td>1</td>\n",
              "      <td>0</td>\n",
              "      <td>0</td>\n",
              "      <td>0</td>\n",
              "      <td>5</td>\n",
              "      <td>2</td>\n",
              "      <td>9</td>\n",
              "      <td>1</td>\n",
              "      <td>0</td>\n",
              "      <td>1</td>\n",
              "      <td>0</td>\n",
              "      <td>0</td>\n",
              "      <td>4</td>\n",
              "      <td>0</td>\n",
              "      <td>2</td>\n",
              "      <td>2</td>\n",
              "      <td>7</td>\n",
              "      <td>7</td>\n",
              "      <td>2</td>\n",
              "      <td>1</td>\n",
              "      <td>4</td>\n",
              "      <td>3</td>\n",
              "      <td>2</td>\n",
              "      <td>1</td>\n",
              "    </tr>\n",
              "    <tr>\n",
              "      <th>2</th>\n",
              "      <td>0</td>\n",
              "      <td>1</td>\n",
              "      <td>0</td>\n",
              "      <td>0</td>\n",
              "      <td>0</td>\n",
              "      <td>0</td>\n",
              "      <td>2</td>\n",
              "      <td>8</td>\n",
              "      <td>1</td>\n",
              "      <td>3</td>\n",
              "      <td>1</td>\n",
              "      <td>0</td>\n",
              "      <td>0</td>\n",
              "      <td>5</td>\n",
              "      <td>0</td>\n",
              "      <td>2</td>\n",
              "      <td>2</td>\n",
              "      <td>7</td>\n",
              "      <td>7</td>\n",
              "      <td>2</td>\n",
              "      <td>1</td>\n",
              "      <td>4</td>\n",
              "      <td>3</td>\n",
              "      <td>2</td>\n",
              "      <td>3</td>\n",
              "    </tr>\n",
              "    <tr>\n",
              "      <th>3</th>\n",
              "      <td>0</td>\n",
              "      <td>0</td>\n",
              "      <td>1</td>\n",
              "      <td>0</td>\n",
              "      <td>1</td>\n",
              "      <td>5</td>\n",
              "      <td>3</td>\n",
              "      <td>8</td>\n",
              "      <td>1</td>\n",
              "      <td>6</td>\n",
              "      <td>1</td>\n",
              "      <td>0</td>\n",
              "      <td>1</td>\n",
              "      <td>5</td>\n",
              "      <td>0</td>\n",
              "      <td>2</td>\n",
              "      <td>2</td>\n",
              "      <td>7</td>\n",
              "      <td>7</td>\n",
              "      <td>2</td>\n",
              "      <td>1</td>\n",
              "      <td>4</td>\n",
              "      <td>2</td>\n",
              "      <td>3</td>\n",
              "      <td>5</td>\n",
              "    </tr>\n",
              "    <tr>\n",
              "      <th>4</th>\n",
              "      <td>0</td>\n",
              "      <td>0</td>\n",
              "      <td>1</td>\n",
              "      <td>0</td>\n",
              "      <td>0</td>\n",
              "      <td>5</td>\n",
              "      <td>2</td>\n",
              "      <td>3</td>\n",
              "      <td>0</td>\n",
              "      <td>5</td>\n",
              "      <td>1</td>\n",
              "      <td>1</td>\n",
              "      <td>0</td>\n",
              "      <td>4</td>\n",
              "      <td>1</td>\n",
              "      <td>2</td>\n",
              "      <td>2</td>\n",
              "      <td>7</td>\n",
              "      <td>7</td>\n",
              "      <td>2</td>\n",
              "      <td>1</td>\n",
              "      <td>0</td>\n",
              "      <td>3</td>\n",
              "      <td>0</td>\n",
              "      <td>1</td>\n",
              "    </tr>\n",
              "  </tbody>\n",
              "</table>\n",
              "</div>"
            ],
            "text/plain": [
              "   b_stalk-root  c_stalk-root  ...  population  habitat\n",
              "0             0             0  ...           3        5\n",
              "1             0             1  ...           2        1\n",
              "2             0             1  ...           2        3\n",
              "3             0             0  ...           3        5\n",
              "4             0             0  ...           0        1\n",
              "\n",
              "[5 rows x 25 columns]"
            ]
          },
          "metadata": {
            "tags": []
          },
          "execution_count": 206
        }
      ]
    },
    {
      "cell_type": "markdown",
      "metadata": {
        "id": "o4ava3ofAIj-",
        "colab_type": "text"
      },
      "source": [
        "normalising data\n",
        "to scale down the values between 0 and 1"
      ]
    },
    {
      "cell_type": "code",
      "metadata": {
        "id": "_ofBNg49ADZd",
        "colab_type": "code",
        "colab": {}
      },
      "source": [
        "encoded_data=(encoded_data-encoded_data.min())/(encoded_data.max()-encoded_data.min())"
      ],
      "execution_count": 0,
      "outputs": []
    },
    {
      "cell_type": "markdown",
      "metadata": {
        "id": "rZfuNA0B_j0t",
        "colab_type": "text"
      },
      "source": [
        "visualising all features with each other using heatmap from sns library.\n",
        "Heatmap helps in understanding relationship between features."
      ]
    },
    {
      "cell_type": "code",
      "metadata": {
        "id": "C3PnL---8Ksj",
        "colab_type": "code",
        "outputId": "dab07094-dc85-40a4-8e41-9d9164df3c21",
        "colab": {
          "base_uri": "https://localhost:8080/",
          "height": 996
        }
      },
      "source": [
        "import seaborn as sns\n",
        "coo = encoded_data.corr('pearson')\n",
        "fig, ax = plt.subplots(figsize=(15,15)) \n",
        "sns.heatmap(coo, annot=True, linewidths=.5, ax=ax)"
      ],
      "execution_count": 0,
      "outputs": [
        {
          "output_type": "execute_result",
          "data": {
            "text/plain": [
              "<matplotlib.axes._subplots.AxesSubplot at 0x7f5cd17cec18>"
            ]
          },
          "metadata": {
            "tags": []
          },
          "execution_count": 208
        },
        {
          "output_type": "display_data",
          "data": {
            "image/png": "[encoded data removed]",
            "text/plain": [
              "<Figure size 1080x1080 with 2 Axes>"
            ]
          },
          "metadata": {
            "tags": []
          }
        }
      ]
    },
    {
      "cell_type": "markdown",
      "metadata": {
        "id": "da7Uy1mK_22M",
        "colab_type": "text"
      },
      "source": [
        "in heatmap values closer to 1 are more correlated."
      ]
    },
    {
      "cell_type": "markdown",
      "metadata": {
        "id": "7FWjxt5hreL8",
        "colab_type": "text"
      },
      "source": [
        "Here pearson correlation is done to get correlation between target and features"
      ]
    },
    {
      "cell_type": "code",
      "metadata": {
        "id": "J_qn98Xi-iIs",
        "colab_type": "code",
        "outputId": "071b5116-992e-4531-ea59-f0df18df3b33",
        "colab": {
          "base_uri": "https://localhost:8080/",
          "height": 459
        }
      },
      "source": [
        "encoded_data.corr(\"pearson\")[\"class\"]"
      ],
      "execution_count": 0,
      "outputs": [
        {
          "output_type": "execute_result",
          "data": {
            "text/plain": [
              "b_stalk-root                0.017712\n",
              "c_stalk-root               -0.218548\n",
              "e_stalk-root               -0.202839\n",
              "r_stalk-root               -0.150087\n",
              "class                       1.000000\n",
              "cap-shape                   0.052951\n",
              "cap-surface                 0.178446\n",
              "cap-color                  -0.031384\n",
              "bruises?                   -0.501530\n",
              "odor                       -0.093552\n",
              "gill-attachment             0.129200\n",
              "gill-spacing               -0.348387\n",
              "gill-size                   0.540024\n",
              "gill-color                 -0.530566\n",
              "stalk-shape                -0.102019\n",
              "stalk-surface-above-ring   -0.334593\n",
              "stalk-surface-below-ring   -0.298801\n",
              "stalk-color-above-ring     -0.154003\n",
              "stalk-color-below-ring     -0.146730\n",
              "veil-color                  0.145142\n",
              "ring-number                -0.214366\n",
              "ring-type                  -0.411771\n",
              "spore-print-color           0.171961\n",
              "population                  0.298686\n",
              "habitat                     0.217179\n",
              "Name: class, dtype: float64"
            ]
          },
          "metadata": {
            "tags": []
          },
          "execution_count": 209
        }
      ]
    },
    {
      "cell_type": "markdown",
      "metadata": {
        "id": "ByAATI8VrsGG",
        "colab_type": "text"
      },
      "source": [
        "gill-size and gill-color features have highest correlation of 0.54 and 0.53 respectively."
      ]
    },
    {
      "cell_type": "markdown",
      "metadata": {
        "id": "No4YEUiZAieQ",
        "colab_type": "text"
      },
      "source": [
        "Here Iam taking 1 variable i.e gill-color as x1 and target(class) as y."
      ]
    },
    {
      "cell_type": "code",
      "metadata": {
        "id": "BifBuUpu8O2U",
        "colab_type": "code",
        "colab": {}
      },
      "source": [
        "x1=encoded_data[\"gill-color\"].values\n",
        "y=encoded_data[\"class\"].values"
      ],
      "execution_count": 0,
      "outputs": []
    },
    {
      "cell_type": "markdown",
      "metadata": {
        "id": "xkeDEb03BF0A",
        "colab_type": "text"
      },
      "source": [
        "ploting gill-color vs target(\"class\")"
      ]
    },
    {
      "cell_type": "code",
      "metadata": {
        "id": "qv4eI-Se8QmM",
        "colab_type": "code",
        "outputId": "835a994a-0a7a-4138-82a8-06eb366a2205",
        "colab": {
          "base_uri": "https://localhost:8080/",
          "height": 282
        }
      },
      "source": [
        "plt.plot(x1,y,'b.')"
      ],
      "execution_count": 0,
      "outputs": [
        {
          "output_type": "execute_result",
          "data": {
            "text/plain": [
              "[<matplotlib.lines.Line2D at 0x7f5ccde34828>]"
            ]
          },
          "metadata": {
            "tags": []
          },
          "execution_count": 213
        },
        {
          "output_type": "display_data",
          "data": {
            "image/png": "[encoded data removed]",
            "text/plain": [
              "<Figure size 432x288 with 1 Axes>"
            ]
          },
          "metadata": {
            "tags": []
          }
        }
      ]
    },
    {
      "cell_type": "markdown",
      "metadata": {
        "id": "DYYYnZWhBP1s",
        "colab_type": "text"
      },
      "source": [
        "sigmoid function\n",
        "\n",
        "A sigmoid function is a mathematical function having a characteristic \"S\"-shaped curve.\n",
        "\n",
        "A sigmoid function is a type of activation function, and more specifically defined as a squashing function. Squashing functions limit the output to a range between 0 and 1, making these functions useful in the prediction of probabilities."
      ]
    },
    {
      "cell_type": "markdown",
      "metadata": {
        "id": "p7QexGPHWvQN",
        "colab_type": "text"
      },
      "source": [
        "![alt text](https://drive.google.com/uc?id=1uEnBwHpkWKHhXztbYzxzuAIs07JO9DBl)"
      ]
    },
    {
      "cell_type": "code",
      "metadata": {
        "id": "JTXmE1xB8SZd",
        "colab_type": "code",
        "colab": {}
      },
      "source": [
        "def sigmoid(z):\n",
        "  return 1 / (1 + np.exp(-z))"
      ],
      "execution_count": 0,
      "outputs": []
    },
    {
      "cell_type": "markdown",
      "metadata": {
        "id": "P1bcqcVLBgWV",
        "colab_type": "text"
      },
      "source": [
        "**error function** \n",
        "\n",
        "calculates error using the cost function shown below"
      ]
    },
    {
      "cell_type": "markdown",
      "metadata": {
        "id": "yhJ3709qW21V",
        "colab_type": "text"
      },
      "source": [
        "![alt text](https://drive.google.com/uc?id=1bUtEr43lhwVmefLqRmMQLTHIbwpv-u_6)"
      ]
    },
    {
      "cell_type": "markdown",
      "metadata": {
        "id": "mGdWbuRbDGBi",
        "colab_type": "text"
      },
      "source": [
        "this cost function can be written in this form"
      ]
    },
    {
      "cell_type": "markdown",
      "metadata": {
        "id": "o-HfxPGrXAlg",
        "colab_type": "text"
      },
      "source": [
        "![alt text](https://drive.google.com/uc?id=1jHbRPcNu4f8csi8qDGTN78IKYlzlw7r4)"
      ]
    },
    {
      "cell_type": "code",
      "metadata": {
        "id": "1ajaX3Do8U1E",
        "colab_type": "code",
        "colab": {}
      },
      "source": [
        "def error(a,b,x1,y):\n",
        "  error = 0\n",
        "  m = len(y)\n",
        "  for i in range(m):\n",
        "      f=(a*x1[i]+b)\n",
        "      error += -y[i] * np.log(sigmoid(f)) - (1-y[i]) * np.log(1-sigmoid(f))\n",
        "  return error/m"
      ],
      "execution_count": 0,
      "outputs": []
    },
    {
      "cell_type": "markdown",
      "metadata": {
        "id": "X2vqNs67ECj4",
        "colab_type": "text"
      },
      "source": [
        "step gradient function reduces the error by going towards minima in steps this is done by analising the slope in each step."
      ]
    },
    {
      "cell_type": "code",
      "metadata": {
        "id": "l1YvliVH8W9B",
        "colab_type": "code",
        "colab": {}
      },
      "source": [
        "def step_gradient(a,b,x1,y,learning_rate):\n",
        "    grad_a = 0\n",
        "    grad_b = 0\n",
        "    m = len(y)\n",
        "    for i in range(m):\n",
        "      f=(a*x1[i]+b)\n",
        "      grad_a += (sigmoid(f) - y[i]) * x1[i]\n",
        "      grad_b += (sigmoid(f) - y[i])        \n",
        "    a = a - (grad_a * learning_rate)\n",
        "    b = b - (grad_b * learning_rate)\n",
        "    return a,b"
      ],
      "execution_count": 0,
      "outputs": []
    },
    {
      "cell_type": "markdown",
      "metadata": {
        "id": "y520C6RqEaSj",
        "colab_type": "text"
      },
      "source": [
        "descend function performs gradient descent"
      ]
    },
    {
      "cell_type": "code",
      "metadata": {
        "id": "RrWiNpbk8ZKa",
        "colab_type": "code",
        "colab": {}
      },
      "source": [
        "\n",
        "def descend(initial_a, initial_b, x1, y, learning_rate, iterations):\n",
        "    a, b = initial_a, initial_b\n",
        "    for i in range(iterations):\n",
        "        e = error(a, b, x1, y)\n",
        "        if i % 100 == 0:\n",
        "            print(f\"Error: {e}, a: {a}, b: {b}\")\n",
        "        a,b = step_gradient(a, b, x1, y, learning_rate)\n",
        "        \n",
        "    return a,b"
      ],
      "execution_count": 0,
      "outputs": []
    },
    {
      "cell_type": "markdown",
      "metadata": {
        "id": "7a58TGFFEmn9",
        "colab_type": "text"
      },
      "source": [
        "accuracy function determines the accuracy of the model by determining the score no. of times the model has predicted correctly by using a boundary as 0.5."
      ]
    },
    {
      "cell_type": "code",
      "metadata": {
        "id": "DAPrp2Kk8bRT",
        "colab_type": "code",
        "colab": {}
      },
      "source": [
        "def accuracy(a,b,x1,y):\n",
        "    correct = 0\n",
        "    for i in range(len(y)):\n",
        "        f=(a*x1[i]+b)\n",
        "        prediction = sigmoid(f)\n",
        "        if prediction > 0.5:\n",
        "            z = 1\n",
        "        else:\n",
        "            z = 0\n",
        "        if y[i] == z:\n",
        "            correct += 1\n",
        "            \n",
        "    print(\"Accuracy: {}\".format(correct / len(y)))"
      ],
      "execution_count": 0,
      "outputs": []
    },
    {
      "cell_type": "markdown",
      "metadata": {
        "id": "JgB9dJeIFOlQ",
        "colab_type": "text"
      },
      "source": [
        "splitting values into train and test dataset using train_test_split"
      ]
    },
    {
      "cell_type": "code",
      "metadata": {
        "id": "Pinn-ILR8e6T",
        "colab_type": "code",
        "colab": {}
      },
      "source": [
        "from sklearn.model_selection import train_test_split\n",
        "x1_train, x1_test, y_train, y_test = train_test_split(x1,y,test_size=0.2)\n"
      ],
      "execution_count": 0,
      "outputs": []
    },
    {
      "cell_type": "markdown",
      "metadata": {
        "id": "YFW1vvQBFYNj",
        "colab_type": "text"
      },
      "source": [
        "**Training**\n",
        "\n",
        "inititialising variables and calling descend function which trains the model using logistic regression."
      ]
    },
    {
      "cell_type": "code",
      "metadata": {
        "id": "i7pEQiTt8hFK",
        "colab_type": "code",
        "outputId": "cb9ca34c-f16b-4228-d35f-5bdd2ecadae9",
        "colab": {
          "base_uri": "https://localhost:8080/",
          "height": 187
        }
      },
      "source": [
        "learning_rate = 0.001\n",
        "iterations = 1000\n",
        "a,b=0,0\n",
        "final_a, final_b = descend(a, b, x1_train, y_train, learning_rate, iterations)"
      ],
      "execution_count": 0,
      "outputs": [
        {
          "output_type": "stream",
          "text": [
            "Error: 0.6931471805600207, a: 0, b: 0\n",
            "Error: 0.5381536328508785, a: -4.03170934620946, b: 1.6681146348094296\n",
            "Error: 0.5381536271262821, a: -4.032609006048566, b: 1.6685214243379458\n",
            "Error: 0.5381536271262588, a: -4.0326093286757585, b: 1.6685215702163638\n",
            "Error: 0.5381536271262359, a: -4.032609328791472, b: 1.6685215702686842\n",
            "Error: 0.5381536271262357, a: -4.032609328791508, b: 1.6685215702687006\n",
            "Error: 0.5381536271262357, a: -4.032609328791508, b: 1.6685215702687006\n",
            "Error: 0.5381536271262357, a: -4.032609328791508, b: 1.6685215702687006\n",
            "Error: 0.5381536271262357, a: -4.032609328791508, b: 1.6685215702687006\n",
            "Error: 0.5381536271262357, a: -4.032609328791508, b: 1.6685215702687006\n"
          ],
          "name": "stdout"
        }
      ]
    },
    {
      "cell_type": "markdown",
      "metadata": {
        "id": "AUQTSC-AFuvg",
        "colab_type": "text"
      },
      "source": [
        "plotting the sigmoid curve to see whether the curve is fitted into the data or not"
      ]
    },
    {
      "cell_type": "code",
      "metadata": {
        "id": "U7pledha-zpD",
        "colab_type": "code",
        "outputId": "9eb51866-19b4-486d-e5b2-891604dc5bfc",
        "colab": {
          "base_uri": "https://localhost:8080/",
          "height": 286
        }
      },
      "source": [
        "f = (final_a * x1_train + final_b)\n",
        "plt.plot(x1_train, y_train, 'g.',     #data\n",
        "         x1_train, sigmoid(f), 'b.',  #sigmoid curve\n",
        "         x1_train, f, 'r',)           # the line\n",
        "plt.ylim(0,1)"
      ],
      "execution_count": 0,
      "outputs": [
        {
          "output_type": "execute_result",
          "data": {
            "text/plain": [
              "(0.0, 1.0)"
            ]
          },
          "metadata": {
            "tags": []
          },
          "execution_count": 221
        },
        {
          "output_type": "display_data",
          "data": {
            "image/png": "[encoded data removed]",
            "text/plain": [
              "<Figure size 432x288 with 1 Axes>"
            ]
          },
          "metadata": {
            "tags": []
          }
        }
      ]
    },
    {
      "cell_type": "markdown",
      "metadata": {
        "id": "ypYZf3emF2ib",
        "colab_type": "text"
      },
      "source": [
        "from this plot we can infer that sigmoid curve is not fitted properly but has done to some extent.\n",
        "this means that logistic regression model has not been able to predict the result well which can be seen in the accuracy as well."
      ]
    },
    {
      "cell_type": "code",
      "metadata": {
        "id": "6sLrr-sS_V6s",
        "colab_type": "code",
        "outputId": "ef344f88-986b-4fec-a849-cb260c4cf9d0",
        "colab": {
          "base_uri": "https://localhost:8080/",
          "height": 34
        }
      },
      "source": [
        "accuracy(final_a,final_b, x1_train, y_train)"
      ],
      "execution_count": 0,
      "outputs": [
        {
          "output_type": "stream",
          "text": [
            "Accuracy: 0.7568856747191876\n"
          ],
          "name": "stdout"
        }
      ]
    },
    {
      "cell_type": "code",
      "metadata": {
        "id": "CugXLooUzelc",
        "colab_type": "code",
        "outputId": "4bdf339f-fa45-460a-abcc-d8a4d7569285",
        "colab": {
          "base_uri": "https://localhost:8080/",
          "height": 34
        }
      },
      "source": [
        "accuracy(final_a,final_b, x1_test, y_test)"
      ],
      "execution_count": 0,
      "outputs": [
        {
          "output_type": "stream",
          "text": [
            "Accuracy: 0.7513846153846154\n"
          ],
          "name": "stdout"
        }
      ]
    },
    {
      "cell_type": "markdown",
      "metadata": {
        "id": "EgZtbYMhGSJc",
        "colab_type": "text"
      },
      "source": [
        "Logistic Regression model was able to predict whether the mushroom is edible or poisonous with a accuracy of 75% only. "
      ]
    },
    {
      "cell_type": "markdown",
      "metadata": {
        "id": "TEvbeLX1D3ZZ",
        "colab_type": "text"
      },
      "source": [
        "# kNN"
      ]
    },
    {
      "cell_type": "markdown",
      "metadata": {
        "id": "LND7tgt3GpE9",
        "colab_type": "text"
      },
      "source": [
        "The k-nearest neighbors (KNN) algorithm is a simple, easy-to-implement supervised machine learning algorithm that can be used to solve both classification and regression problems.\n",
        "\n",
        "The KNN algorithm assumes that similar things exist in close proximity.\n",
        "\n",
        "'k' in KNN is a parameter that refers to the number of nearest neighbours to include in the majority of the voting process"
      ]
    },
    {
      "cell_type": "markdown",
      "metadata": {
        "id": "Lxfz2f_QXoFZ",
        "colab_type": "text"
      },
      "source": [
        "![alt text](https://drive.google.com/uc?id=1XLnhNr92Ff5gb6ZXfOMKJHKDbBB5bvG5)"
      ]
    },
    {
      "cell_type": "markdown",
      "metadata": {
        "id": "cYxGjnXFHutn",
        "colab_type": "text"
      },
      "source": [
        "Functions used in KNN"
      ]
    },
    {
      "cell_type": "code",
      "metadata": {
        "id": "1TLx4hX0_X4S",
        "colab_type": "code",
        "colab": {}
      },
      "source": [
        "# Calculate Distance between any two given points\n",
        "#  the Euclidean distance or Euclidean metric is the \"ordinary\" straight-line distance between two points in Euclidean space.\n",
        "\n",
        "def euclid_distance(train_point, given_point):\n",
        "    distance = np.sum((train_point-given_point)**2)\n",
        "    return np.sqrt(distance)\n",
        "\n",
        "\n",
        "# this function calculates distance with respect to all the points.\n",
        "# this is the drawback of KNN as calculating distance w.r.t all points is not feasable in huge data.\n",
        "# Hence KNN is usually used for small datasets\n",
        "def calc_distance_from_all(all_points, given_point, predictions):\n",
        "    all_distances = []\n",
        "    for i, each in enumerate(all_points):\n",
        "        distance = euclid_distance(each, given_point)\n",
        "        all_distances.append((distance,int(predictions[i])))\n",
        "    all_distances.sort(key=lambda mytup: mytup[0])\n",
        "    return all_distances\n",
        "\n",
        "\n",
        "#depending on the distances it takes the neighbours\n",
        "def get_neighbours(distances, count):\n",
        "    return distances[:count]\n",
        "\n",
        "# Takes a given point and predicts the class based on all other points\n",
        "def predict(all_points, given_point, predictions):\n",
        "    distances = calc_distance_from_all(all_points,given_point,predictions)\n",
        "    neighbours = get_neighbours(distances, 3)\n",
        "    op = [row[-1] for row in neighbours]\n",
        "    prediction = max(op, key=op.count)\n",
        "    return prediction\n",
        "\n",
        "\n",
        "\n",
        "# Get how accurate our system is based on a new set of test points\n",
        "# for which we already know the right answer to\n",
        "def accuracy(basex, basey, testx, testy):\n",
        "    correct = 0 \n",
        "    \n",
        "    for i in range(len(testx)):\n",
        "        p = predict(basex, testx[i], basey)\n",
        "        if p == testy[i]:\n",
        "            correct += 1\n",
        "            \n",
        "    return f\"Accuracy: {correct*100/len(testy)}%\""
      ],
      "execution_count": 0,
      "outputs": []
    },
    {
      "cell_type": "markdown",
      "metadata": {
        "id": "rtNBUPwPIc0C",
        "colab_type": "text"
      },
      "source": [
        "taking 2 features gill-size and gill-color as correlation of these 2 features is high."
      ]
    },
    {
      "cell_type": "code",
      "metadata": {
        "id": "YCDBiPNLIiau",
        "colab_type": "code",
        "colab": {}
      },
      "source": [
        "X=encoded_data[[\"gill-size\",\"gill-color\"]].values\n",
        "Y=encoded_data[[\"class\"]].values"
      ],
      "execution_count": 0,
      "outputs": []
    },
    {
      "cell_type": "markdown",
      "metadata": {
        "id": "_qycnjhiIwI1",
        "colab_type": "text"
      },
      "source": [
        "splitting values into train and test dataset using train_test_split"
      ]
    },
    {
      "cell_type": "code",
      "metadata": {
        "id": "_R2GS9XBIhnX",
        "colab_type": "code",
        "colab": {}
      },
      "source": [
        "xtrain, xtest, ytrain, ytest = train_test_split(X,Y, test_size=0.3)"
      ],
      "execution_count": 0,
      "outputs": []
    },
    {
      "cell_type": "code",
      "metadata": {
        "id": "N_5Nm1I9JC6a",
        "colab_type": "code",
        "outputId": "b10aca7b-eec3-403e-c5b9-02894bb89688",
        "colab": {
          "base_uri": "https://localhost:8080/",
          "height": 34
        }
      },
      "source": [
        "ytest[2]"
      ],
      "execution_count": 0,
      "outputs": [
        {
          "output_type": "execute_result",
          "data": {
            "text/plain": [
              "array([0.])"
            ]
          },
          "metadata": {
            "tags": []
          },
          "execution_count": 236
        }
      ]
    },
    {
      "cell_type": "code",
      "metadata": {
        "id": "N-OPbkpiJODt",
        "colab_type": "code",
        "outputId": "cf9864ef-24d3-4c50-a47d-82574d08fe10",
        "colab": {
          "base_uri": "https://localhost:8080/",
          "height": 34
        }
      },
      "source": [
        "predict(xtrain, xtest[2], ytrain)"
      ],
      "execution_count": 0,
      "outputs": [
        {
          "output_type": "execute_result",
          "data": {
            "text/plain": [
              "0"
            ]
          },
          "metadata": {
            "tags": []
          },
          "execution_count": 237
        }
      ]
    },
    {
      "cell_type": "markdown",
      "metadata": {
        "id": "L-sQhnwvKbA_",
        "colab_type": "text"
      },
      "source": [
        "model predicts correct class i.e class 0 "
      ]
    },
    {
      "cell_type": "code",
      "metadata": {
        "id": "fVRQobvAJXvg",
        "colab_type": "code",
        "outputId": "552afc97-a1dd-4ddc-ae7d-30e663371493",
        "colab": {
          "base_uri": "https://localhost:8080/",
          "height": 34
        }
      },
      "source": [
        "accuracy(xtrain, ytrain, xtest, ytest)"
      ],
      "execution_count": 0,
      "outputs": [
        {
          "output_type": "execute_result",
          "data": {
            "text/plain": [
              "'Accuracy: 78.5890073831009%'"
            ]
          },
          "metadata": {
            "tags": []
          },
          "execution_count": 238
        }
      ]
    },
    {
      "cell_type": "markdown",
      "metadata": {
        "id": "3IRs4pjWKiCT",
        "colab_type": "text"
      },
      "source": [
        "KNN model predicts that mushroom edible or poisonous with an accuracy of 82%. "
      ]
    },
    {
      "cell_type": "markdown",
      "metadata": {
        "id": "jM7OpRndwlss",
        "colab_type": "text"
      },
      "source": [
        "# Conclusion"
      ]
    },
    {
      "cell_type": "markdown",
      "metadata": {
        "id": "u0glACKYwun4",
        "colab_type": "text"
      },
      "source": [
        "Accuracy:\n",
        "\n",
        "    Nueral Network             98.15 %\n",
        "\n",
        "    Logistic regression        75.7 %\n",
        "\n",
        "    kNN                        78.5 %"
      ]
    },
    {
      "cell_type": "markdown",
      "metadata": {
        "id": "bbwtZneyxu12",
        "colab_type": "text"
      },
      "source": [
        "Hence the model predicts weather the mushroom is edible or poisonous with an accuracy of 97% using Nueral Network.\n",
        "\n",
        "This model can save your life..!!"
      ]
    }
  ]
}